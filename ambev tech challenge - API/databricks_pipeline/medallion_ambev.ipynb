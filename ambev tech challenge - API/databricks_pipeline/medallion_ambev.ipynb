{
 "cells": [
  {
   "cell_type": "code",
   "execution_count": 0,
   "metadata": {
    "application/vnd.databricks.v1+cell": {
     "cellMetadata": {
      "byteLimit": 2048000,
      "rowLimit": 10000
     },
     "inputWidgets": {},
     "nuid": "c51668e2-c065-495f-9516-5a2d31fe73c2",
     "showTitle": false,
     "tableResultSettingsMap": {},
     "title": ""
    }
   },
   "outputs": [
    {
     "data": {
      "text/plain": [
       "com.databricks.backend.common.rpc.CommandCancelledException\n",
       "\tat com.databricks.spark.chauffeur.SequenceExecutionState.$anonfun$cancel$5(SequenceExecutionState.scala:136)\n",
       "\tat scala.Option.getOrElse(Option.scala:189)\n",
       "\tat com.databricks.spark.chauffeur.SequenceExecutionState.$anonfun$cancel$3(SequenceExecutionState.scala:136)\n",
       "\tat com.databricks.spark.chauffeur.SequenceExecutionState.$anonfun$cancel$3$adapted(SequenceExecutionState.scala:133)\n",
       "\tat scala.collection.immutable.Range.foreach(Range.scala:158)\n",
       "\tat com.databricks.spark.chauffeur.SequenceExecutionState.cancel(SequenceExecutionState.scala:133)\n",
       "\tat com.databricks.spark.chauffeur.ExecContextState.cancelRunningSequence(ExecContextState.scala:714)\n",
       "\tat com.databricks.spark.chauffeur.ExecContextState.$anonfun$cancel$1(ExecContextState.scala:432)\n",
       "\tat scala.Option.getOrElse(Option.scala:189)\n",
       "\tat com.databricks.spark.chauffeur.ExecContextState.cancel(ExecContextState.scala:432)\n",
       "\tat com.databricks.spark.chauffeur.ExecutionContextManagerV1.cancelExecution(ExecutionContextManagerV1.scala:458)\n",
       "\tat com.databricks.spark.chauffeur.ChauffeurState.$anonfun$process$1(ChauffeurState.scala:537)\n",
       "\tat com.databricks.logging.UsageLogging.$anonfun$recordOperation$1(UsageLogging.scala:508)\n",
       "\tat com.databricks.logging.UsageLogging.executeThunkAndCaptureResultTags$1(UsageLogging.scala:613)\n",
       "\tat com.databricks.logging.UsageLogging.$anonfun$recordOperationWithResultTags$4(UsageLogging.scala:636)\n",
       "\tat com.databricks.logging.AttributionContextTracing.$anonfun$withAttributionContext$1(AttributionContextTracing.scala:48)\n",
       "\tat com.databricks.logging.AttributionContext$.$anonfun$withValue$1(AttributionContext.scala:271)\n",
       "\tat scala.util.DynamicVariable.withValue(DynamicVariable.scala:62)\n",
       "\tat com.databricks.logging.AttributionContext$.withValue(AttributionContext.scala:267)\n",
       "\tat com.databricks.logging.AttributionContextTracing.withAttributionContext(AttributionContextTracing.scala:46)\n",
       "\tat com.databricks.logging.AttributionContextTracing.withAttributionContext$(AttributionContextTracing.scala:43)\n",
       "\tat com.databricks.spark.chauffeur.ChauffeurState.withAttributionContext(ChauffeurState.scala:52)\n",
       "\tat com.databricks.logging.AttributionContextTracing.withAttributionTags(AttributionContextTracing.scala:95)\n",
       "\tat com.databricks.logging.AttributionContextTracing.withAttributionTags$(AttributionContextTracing.scala:76)\n",
       "\tat com.databricks.spark.chauffeur.ChauffeurState.withAttributionTags(ChauffeurState.scala:52)\n",
       "\tat com.databricks.logging.UsageLogging.recordOperationWithResultTags(UsageLogging.scala:608)\n",
       "\tat com.databricks.logging.UsageLogging.recordOperationWithResultTags$(UsageLogging.scala:517)\n",
       "\tat com.databricks.spark.chauffeur.ChauffeurState.recordOperationWithResultTags(ChauffeurState.scala:52)\n",
       "\tat com.databricks.logging.UsageLogging.recordOperation(UsageLogging.scala:509)\n",
       "\tat com.databricks.logging.UsageLogging.recordOperation$(UsageLogging.scala:475)\n",
       "\tat com.databricks.spark.chauffeur.ChauffeurState.recordOperation(ChauffeurState.scala:52)\n",
       "\tat com.databricks.spark.chauffeur.ChauffeurState.process(ChauffeurState.scala:515)\n",
       "\tat com.databricks.spark.chauffeur.Chauffeur$$anon$1$$anonfun$receive$1.handleDriverRequest$1(Chauffeur.scala:857)\n",
       "\tat com.databricks.spark.chauffeur.Chauffeur$$anon$1$$anonfun$receive$1.$anonfun$applyOrElse$5(Chauffeur.scala:883)\n",
       "\tat com.databricks.logging.UsageLogging.executeThunkAndCaptureResultTags$1(UsageLogging.scala:613)\n",
       "\tat com.databricks.logging.UsageLogging.$anonfun$recordOperationWithResultTags$4(UsageLogging.scala:636)\n",
       "\tat com.databricks.logging.AttributionContextTracing.$anonfun$withAttributionContext$1(AttributionContextTracing.scala:48)\n",
       "\tat com.databricks.logging.AttributionContext$.$anonfun$withValue$1(AttributionContext.scala:271)\n",
       "\tat scala.util.DynamicVariable.withValue(DynamicVariable.scala:62)\n",
       "\tat com.databricks.logging.AttributionContext$.withValue(AttributionContext.scala:267)\n",
       "\tat com.databricks.logging.AttributionContextTracing.withAttributionContext(AttributionContextTracing.scala:46)\n",
       "\tat com.databricks.logging.AttributionContextTracing.withAttributionContext$(AttributionContextTracing.scala:43)\n",
       "\tat com.databricks.rpc.ServerBackend.withAttributionContext(ServerBackend.scala:22)\n",
       "\tat com.databricks.logging.AttributionContextTracing.withAttributionTags(AttributionContextTracing.scala:95)\n",
       "\tat com.databricks.logging.AttributionContextTracing.withAttributionTags$(AttributionContextTracing.scala:76)\n",
       "\tat com.databricks.rpc.ServerBackend.withAttributionTags(ServerBackend.scala:22)\n",
       "\tat com.databricks.logging.UsageLogging.recordOperationWithResultTags(UsageLogging.scala:608)\n",
       "\tat com.databricks.logging.UsageLogging.recordOperationWithResultTags$(UsageLogging.scala:517)\n",
       "\tat com.databricks.rpc.ServerBackend.recordOperationWithResultTags(ServerBackend.scala:22)\n",
       "\tat com.databricks.spark.chauffeur.Chauffeur$$anon$1$$anonfun$receive$1.handleDriverRequestWithUsageLogging$1(Chauffeur.scala:882)\n",
       "\tat com.databricks.spark.chauffeur.Chauffeur$$anon$1$$anonfun$receive$1.applyOrElse(Chauffeur.scala:937)\n",
       "\tat com.databricks.spark.chauffeur.Chauffeur$$anon$1$$anonfun$receive$1.applyOrElse(Chauffeur.scala:730)\n",
       "\tat com.databricks.rpc.ServerBackend.$anonfun$internalReceive0$2(ServerBackend.scala:174)\n",
       "\tat com.databricks.rpc.ServerBackend$$anonfun$commonReceive$1.applyOrElse(ServerBackend.scala:200)\n",
       "\tat com.databricks.rpc.ServerBackend$$anonfun$commonReceive$1.applyOrElse(ServerBackend.scala:200)\n",
       "\tat com.databricks.rpc.ServerBackend.internalReceive0(ServerBackend.scala:171)\n",
       "\tat com.databricks.rpc.ServerBackend.$anonfun$internalReceive$1(ServerBackend.scala:147)\n",
       "\tat com.databricks.logging.UsageLogging.$anonfun$recordOperation$1(UsageLogging.scala:508)\n",
       "\tat com.databricks.logging.UsageLogging.executeThunkAndCaptureResultTags$1(UsageLogging.scala:613)\n",
       "\tat com.databricks.logging.UsageLogging.$anonfun$recordOperationWithResultTags$4(UsageLogging.scala:636)\n",
       "\tat com.databricks.logging.AttributionContextTracing.$anonfun$withAttributionContext$1(AttributionContextTracing.scala:48)\n",
       "\tat com.databricks.logging.AttributionContext$.$anonfun$withValue$1(AttributionContext.scala:271)\n",
       "\tat scala.util.DynamicVariable.withValue(DynamicVariable.scala:62)\n",
       "\tat com.databricks.logging.AttributionContext$.withValue(AttributionContext.scala:267)\n",
       "\tat com.databricks.logging.AttributionContextTracing.withAttributionContext(AttributionContextTracing.scala:46)\n",
       "\tat com.databricks.logging.AttributionContextTracing.withAttributionContext$(AttributionContextTracing.scala:43)\n",
       "\tat com.databricks.rpc.ServerBackend.withAttributionContext(ServerBackend.scala:22)\n",
       "\tat com.databricks.logging.AttributionContextTracing.withAttributionTags(AttributionContextTracing.scala:95)\n",
       "\tat com.databricks.logging.AttributionContextTracing.withAttributionTags$(AttributionContextTracing.scala:76)\n",
       "\tat com.databricks.rpc.ServerBackend.withAttributionTags(ServerBackend.scala:22)\n",
       "\tat com.databricks.logging.UsageLogging.recordOperationWithResultTags(UsageLogging.scala:608)\n",
       "\tat com.databricks.logging.UsageLogging.recordOperationWithResultTags$(UsageLogging.scala:517)\n",
       "\tat com.databricks.rpc.ServerBackend.recordOperationWithResultTags(ServerBackend.scala:22)\n",
       "\tat com.databricks.logging.UsageLogging.recordOperation(UsageLogging.scala:509)\n",
       "\tat com.databricks.logging.UsageLogging.recordOperation$(UsageLogging.scala:475)\n",
       "\tat com.databricks.rpc.ServerBackend.recordOperation(ServerBackend.scala:22)\n",
       "\tat com.databricks.rpc.ServerBackend.internalReceive(ServerBackend.scala:146)\n",
       "\tat com.databricks.rpc.JettyServer$RequestManager.handleRPC(JettyServer.scala:1025)\n",
       "\tat com.databricks.rpc.JettyServer$RequestManager.handleRequestAndRespond(JettyServer.scala:946)\n",
       "\tat com.databricks.rpc.JettyServer$RequestManager.$anonfun$handleHttp$6(JettyServer.scala:547)\n",
       "\tat com.databricks.rpc.JettyServer$RequestManager.$anonfun$handleHttp$6$adapted(JettyServer.scala:516)\n",
       "\tat com.databricks.logging.activity.ActivityContextFactory$.$anonfun$withActivityInternal$7(ActivityContextFactory.scala:638)\n",
       "\tat com.databricks.logging.AttributionContextTracing.$anonfun$withAttributionContext$1(AttributionContextTracing.scala:48)\n",
       "\tat com.databricks.logging.AttributionContext$.$anonfun$withValue$1(AttributionContext.scala:271)\n",
       "\tat scala.util.DynamicVariable.withValue(DynamicVariable.scala:62)\n",
       "\tat com.databricks.logging.AttributionContext$.withValue(AttributionContext.scala:267)\n",
       "\tat com.databricks.logging.AttributionContextTracing.withAttributionContext(AttributionContextTracing.scala:46)\n",
       "\tat com.databricks.logging.AttributionContextTracing.withAttributionContext$(AttributionContextTracing.scala:43)\n",
       "\tat com.databricks.logging.activity.ActivityContextFactory$.withAttributionContext(ActivityContextFactory.scala:47)\n",
       "\tat com.databricks.logging.activity.ActivityContextFactory$.$anonfun$withActivityInternal$4(ActivityContextFactory.scala:638)\n",
       "\tat com.databricks.context.integrity.IntegrityCheckContext$ThreadLocalStorage$.withValue(IntegrityCheckContext.scala:73)\n",
       "\tat com.databricks.logging.activity.ActivityContextFactory$.withActivityInternal(ActivityContextFactory.scala:616)\n",
       "\tat com.databricks.logging.activity.ActivityContextFactory$.withServiceRequestActivity(ActivityContextFactory.scala:238)\n",
       "\tat com.databricks.rpc.JettyServer$RequestManager.handleHttp(JettyServer.scala:516)\n",
       "\tat com.databricks.rpc.JettyServer$RequestManager.doPost(JettyServer.scala:406)\n",
       "\tat javax.servlet.http.HttpServlet.service(HttpServlet.java:665)\n",
       "\tat com.databricks.rpc.HttpServletWithPatch.service(HttpServletWithPatch.scala:33)\n",
       "\tat javax.servlet.http.HttpServlet.service(HttpServlet.java:750)\n",
       "\tat org.eclipse.jetty.servlet.ServletHolder.handle(ServletHolder.java:799)\n",
       "\tat org.eclipse.jetty.servlet.ServletHandler.doHandle(ServletHandler.java:554)\n",
       "\tat org.eclipse.jetty.server.handler.ScopedHandler.nextScope(ScopedHandler.java:190)\n",
       "\tat org.eclipse.jetty.servlet.ServletHandler.doScope(ServletHandler.java:505)\n",
       "\tat org.eclipse.jetty.server.handler.ScopedHandler.handle(ScopedHandler.java:141)\n",
       "\tat org.eclipse.jetty.server.handler.HandlerWrapper.handle(HandlerWrapper.java:127)\n",
       "\tat org.eclipse.jetty.server.Server.handle(Server.java:516)\n",
       "\tat org.eclipse.jetty.server.HttpChannel.lambda$handle$1(HttpChannel.java:487)\n",
       "\tat org.eclipse.jetty.server.HttpChannel.dispatch(HttpChannel.java:732)\n",
       "\tat org.eclipse.jetty.server.HttpChannel.handle(HttpChannel.java:479)\n",
       "\tat org.eclipse.jetty.server.HttpConnection.onFillable(HttpConnection.java:277)\n",
       "\tat org.eclipse.jetty.io.AbstractConnection$ReadCallback.succeeded(AbstractConnection.java:311)\n",
       "\tat org.eclipse.jetty.io.FillInterest.fillable(FillInterest.java:105)\n",
       "\tat org.eclipse.jetty.io.ssl.SslConnection$DecryptedEndPoint.onFillable(SslConnection.java:555)\n",
       "\tat org.eclipse.jetty.io.ssl.SslConnection.onFillable(SslConnection.java:410)\n",
       "\tat org.eclipse.jetty.io.ssl.SslConnection$2.succeeded(SslConnection.java:164)\n",
       "\tat org.eclipse.jetty.io.FillInterest.fillable(FillInterest.java:105)\n",
       "\tat org.eclipse.jetty.io.ChannelEndPoint$1.run(ChannelEndPoint.java:104)\n",
       "\tat org.eclipse.jetty.util.thread.strategy.EatWhatYouKill.runTask(EatWhatYouKill.java:338)\n",
       "\tat org.eclipse.jetty.util.thread.strategy.EatWhatYouKill.doProduce(EatWhatYouKill.java:315)\n",
       "\tat org.eclipse.jetty.util.thread.strategy.EatWhatYouKill.tryProduce(EatWhatYouKill.java:173)\n",
       "\tat org.eclipse.jetty.util.thread.strategy.EatWhatYouKill.run(EatWhatYouKill.java:131)\n",
       "\tat org.eclipse.jetty.util.thread.ReservedThreadExecutor$ReservedThread.run(ReservedThreadExecutor.java:409)\n",
       "\tat com.databricks.rpc.InstrumentedQueuedThreadPool$$anon$1.$anonfun$run$2(InstrumentedQueuedThreadPool.scala:105)\n",
       "\tat scala.runtime.java8.JFunction0$mcV$sp.apply(JFunction0$mcV$sp.java:23)\n",
       "\tat com.databricks.logging.AttributionContextTracing.$anonfun$withAttributionContext$1(AttributionContextTracing.scala:48)\n",
       "\tat com.databricks.logging.AttributionContext$.$anonfun$withValue$1(AttributionContext.scala:271)\n",
       "\tat scala.util.DynamicVariable.withValue(DynamicVariable.scala:62)\n",
       "\tat com.databricks.logging.AttributionContext$.withValue(AttributionContext.scala:267)\n",
       "\tat com.databricks.logging.AttributionContextTracing.withAttributionContext(AttributionContextTracing.scala:46)\n",
       "\tat com.databricks.logging.AttributionContextTracing.withAttributionContext$(AttributionContextTracing.scala:43)\n",
       "\tat com.databricks.rpc.InstrumentedQueuedThreadPool.withAttributionContext(InstrumentedQueuedThreadPool.scala:45)\n",
       "\tat com.databricks.rpc.InstrumentedQueuedThreadPool$$anon$1.$anonfun$run$1(InstrumentedQueuedThreadPool.scala:105)\n",
       "\tat scala.runtime.java8.JFunction0$mcV$sp.apply(JFunction0$mcV$sp.java:23)\n",
       "\tat com.databricks.instrumentation.QueuedThreadPoolInstrumenter.trackActiveThreads(QueuedThreadPoolInstrumenter.scala:110)\n",
       "\tat com.databricks.instrumentation.QueuedThreadPoolInstrumenter.trackActiveThreads$(QueuedThreadPoolInstrumenter.scala:107)\n",
       "\tat com.databricks.rpc.InstrumentedQueuedThreadPool.trackActiveThreads(InstrumentedQueuedThreadPool.scala:45)\n",
       "\tat com.databricks.rpc.InstrumentedQueuedThreadPool$$anon$1.run(InstrumentedQueuedThreadPool.scala:87)\n",
       "\tat org.eclipse.jetty.util.thread.QueuedThreadPool.runJob(QueuedThreadPool.java:883)\n",
       "\tat org.eclipse.jetty.util.thread.QueuedThreadPool$Runner.run(QueuedThreadPool.java:1034)\n",
       "\tat java.base/java.lang.Thread.run(Thread.java:840)"
      ]
     },
     "metadata": {
      "application/vnd.databricks.v1+output": {
       "addedWidgets": {},
       "arguments": {},
       "datasetInfos": [],
       "jupyterProps": null,
       "metadata": {
        "errorSummary": "Cancelled"
       },
       "removedWidgets": [],
       "sqlProps": null,
       "stackFrames": [
        "com.databricks.backend.common.rpc.CommandCancelledException",
        "\tat com.databricks.spark.chauffeur.SequenceExecutionState.$anonfun$cancel$5(SequenceExecutionState.scala:136)",
        "\tat scala.Option.getOrElse(Option.scala:189)",
        "\tat com.databricks.spark.chauffeur.SequenceExecutionState.$anonfun$cancel$3(SequenceExecutionState.scala:136)",
        "\tat com.databricks.spark.chauffeur.SequenceExecutionState.$anonfun$cancel$3$adapted(SequenceExecutionState.scala:133)",
        "\tat scala.collection.immutable.Range.foreach(Range.scala:158)",
        "\tat com.databricks.spark.chauffeur.SequenceExecutionState.cancel(SequenceExecutionState.scala:133)",
        "\tat com.databricks.spark.chauffeur.ExecContextState.cancelRunningSequence(ExecContextState.scala:714)",
        "\tat com.databricks.spark.chauffeur.ExecContextState.$anonfun$cancel$1(ExecContextState.scala:432)",
        "\tat scala.Option.getOrElse(Option.scala:189)",
        "\tat com.databricks.spark.chauffeur.ExecContextState.cancel(ExecContextState.scala:432)",
        "\tat com.databricks.spark.chauffeur.ExecutionContextManagerV1.cancelExecution(ExecutionContextManagerV1.scala:458)",
        "\tat com.databricks.spark.chauffeur.ChauffeurState.$anonfun$process$1(ChauffeurState.scala:537)",
        "\tat com.databricks.logging.UsageLogging.$anonfun$recordOperation$1(UsageLogging.scala:508)",
        "\tat com.databricks.logging.UsageLogging.executeThunkAndCaptureResultTags$1(UsageLogging.scala:613)",
        "\tat com.databricks.logging.UsageLogging.$anonfun$recordOperationWithResultTags$4(UsageLogging.scala:636)",
        "\tat com.databricks.logging.AttributionContextTracing.$anonfun$withAttributionContext$1(AttributionContextTracing.scala:48)",
        "\tat com.databricks.logging.AttributionContext$.$anonfun$withValue$1(AttributionContext.scala:271)",
        "\tat scala.util.DynamicVariable.withValue(DynamicVariable.scala:62)",
        "\tat com.databricks.logging.AttributionContext$.withValue(AttributionContext.scala:267)",
        "\tat com.databricks.logging.AttributionContextTracing.withAttributionContext(AttributionContextTracing.scala:46)",
        "\tat com.databricks.logging.AttributionContextTracing.withAttributionContext$(AttributionContextTracing.scala:43)",
        "\tat com.databricks.spark.chauffeur.ChauffeurState.withAttributionContext(ChauffeurState.scala:52)",
        "\tat com.databricks.logging.AttributionContextTracing.withAttributionTags(AttributionContextTracing.scala:95)",
        "\tat com.databricks.logging.AttributionContextTracing.withAttributionTags$(AttributionContextTracing.scala:76)",
        "\tat com.databricks.spark.chauffeur.ChauffeurState.withAttributionTags(ChauffeurState.scala:52)",
        "\tat com.databricks.logging.UsageLogging.recordOperationWithResultTags(UsageLogging.scala:608)",
        "\tat com.databricks.logging.UsageLogging.recordOperationWithResultTags$(UsageLogging.scala:517)",
        "\tat com.databricks.spark.chauffeur.ChauffeurState.recordOperationWithResultTags(ChauffeurState.scala:52)",
        "\tat com.databricks.logging.UsageLogging.recordOperation(UsageLogging.scala:509)",
        "\tat com.databricks.logging.UsageLogging.recordOperation$(UsageLogging.scala:475)",
        "\tat com.databricks.spark.chauffeur.ChauffeurState.recordOperation(ChauffeurState.scala:52)",
        "\tat com.databricks.spark.chauffeur.ChauffeurState.process(ChauffeurState.scala:515)",
        "\tat com.databricks.spark.chauffeur.Chauffeur$$anon$1$$anonfun$receive$1.handleDriverRequest$1(Chauffeur.scala:857)",
        "\tat com.databricks.spark.chauffeur.Chauffeur$$anon$1$$anonfun$receive$1.$anonfun$applyOrElse$5(Chauffeur.scala:883)",
        "\tat com.databricks.logging.UsageLogging.executeThunkAndCaptureResultTags$1(UsageLogging.scala:613)",
        "\tat com.databricks.logging.UsageLogging.$anonfun$recordOperationWithResultTags$4(UsageLogging.scala:636)",
        "\tat com.databricks.logging.AttributionContextTracing.$anonfun$withAttributionContext$1(AttributionContextTracing.scala:48)",
        "\tat com.databricks.logging.AttributionContext$.$anonfun$withValue$1(AttributionContext.scala:271)",
        "\tat scala.util.DynamicVariable.withValue(DynamicVariable.scala:62)",
        "\tat com.databricks.logging.AttributionContext$.withValue(AttributionContext.scala:267)",
        "\tat com.databricks.logging.AttributionContextTracing.withAttributionContext(AttributionContextTracing.scala:46)",
        "\tat com.databricks.logging.AttributionContextTracing.withAttributionContext$(AttributionContextTracing.scala:43)",
        "\tat com.databricks.rpc.ServerBackend.withAttributionContext(ServerBackend.scala:22)",
        "\tat com.databricks.logging.AttributionContextTracing.withAttributionTags(AttributionContextTracing.scala:95)",
        "\tat com.databricks.logging.AttributionContextTracing.withAttributionTags$(AttributionContextTracing.scala:76)",
        "\tat com.databricks.rpc.ServerBackend.withAttributionTags(ServerBackend.scala:22)",
        "\tat com.databricks.logging.UsageLogging.recordOperationWithResultTags(UsageLogging.scala:608)",
        "\tat com.databricks.logging.UsageLogging.recordOperationWithResultTags$(UsageLogging.scala:517)",
        "\tat com.databricks.rpc.ServerBackend.recordOperationWithResultTags(ServerBackend.scala:22)",
        "\tat com.databricks.spark.chauffeur.Chauffeur$$anon$1$$anonfun$receive$1.handleDriverRequestWithUsageLogging$1(Chauffeur.scala:882)",
        "\tat com.databricks.spark.chauffeur.Chauffeur$$anon$1$$anonfun$receive$1.applyOrElse(Chauffeur.scala:937)",
        "\tat com.databricks.spark.chauffeur.Chauffeur$$anon$1$$anonfun$receive$1.applyOrElse(Chauffeur.scala:730)",
        "\tat com.databricks.rpc.ServerBackend.$anonfun$internalReceive0$2(ServerBackend.scala:174)",
        "\tat com.databricks.rpc.ServerBackend$$anonfun$commonReceive$1.applyOrElse(ServerBackend.scala:200)",
        "\tat com.databricks.rpc.ServerBackend$$anonfun$commonReceive$1.applyOrElse(ServerBackend.scala:200)",
        "\tat com.databricks.rpc.ServerBackend.internalReceive0(ServerBackend.scala:171)",
        "\tat com.databricks.rpc.ServerBackend.$anonfun$internalReceive$1(ServerBackend.scala:147)",
        "\tat com.databricks.logging.UsageLogging.$anonfun$recordOperation$1(UsageLogging.scala:508)",
        "\tat com.databricks.logging.UsageLogging.executeThunkAndCaptureResultTags$1(UsageLogging.scala:613)",
        "\tat com.databricks.logging.UsageLogging.$anonfun$recordOperationWithResultTags$4(UsageLogging.scala:636)",
        "\tat com.databricks.logging.AttributionContextTracing.$anonfun$withAttributionContext$1(AttributionContextTracing.scala:48)",
        "\tat com.databricks.logging.AttributionContext$.$anonfun$withValue$1(AttributionContext.scala:271)",
        "\tat scala.util.DynamicVariable.withValue(DynamicVariable.scala:62)",
        "\tat com.databricks.logging.AttributionContext$.withValue(AttributionContext.scala:267)",
        "\tat com.databricks.logging.AttributionContextTracing.withAttributionContext(AttributionContextTracing.scala:46)",
        "\tat com.databricks.logging.AttributionContextTracing.withAttributionContext$(AttributionContextTracing.scala:43)",
        "\tat com.databricks.rpc.ServerBackend.withAttributionContext(ServerBackend.scala:22)",
        "\tat com.databricks.logging.AttributionContextTracing.withAttributionTags(AttributionContextTracing.scala:95)",
        "\tat com.databricks.logging.AttributionContextTracing.withAttributionTags$(AttributionContextTracing.scala:76)",
        "\tat com.databricks.rpc.ServerBackend.withAttributionTags(ServerBackend.scala:22)",
        "\tat com.databricks.logging.UsageLogging.recordOperationWithResultTags(UsageLogging.scala:608)",
        "\tat com.databricks.logging.UsageLogging.recordOperationWithResultTags$(UsageLogging.scala:517)",
        "\tat com.databricks.rpc.ServerBackend.recordOperationWithResultTags(ServerBackend.scala:22)",
        "\tat com.databricks.logging.UsageLogging.recordOperation(UsageLogging.scala:509)",
        "\tat com.databricks.logging.UsageLogging.recordOperation$(UsageLogging.scala:475)",
        "\tat com.databricks.rpc.ServerBackend.recordOperation(ServerBackend.scala:22)",
        "\tat com.databricks.rpc.ServerBackend.internalReceive(ServerBackend.scala:146)",
        "\tat com.databricks.rpc.JettyServer$RequestManager.handleRPC(JettyServer.scala:1025)",
        "\tat com.databricks.rpc.JettyServer$RequestManager.handleRequestAndRespond(JettyServer.scala:946)",
        "\tat com.databricks.rpc.JettyServer$RequestManager.$anonfun$handleHttp$6(JettyServer.scala:547)",
        "\tat com.databricks.rpc.JettyServer$RequestManager.$anonfun$handleHttp$6$adapted(JettyServer.scala:516)",
        "\tat com.databricks.logging.activity.ActivityContextFactory$.$anonfun$withActivityInternal$7(ActivityContextFactory.scala:638)",
        "\tat com.databricks.logging.AttributionContextTracing.$anonfun$withAttributionContext$1(AttributionContextTracing.scala:48)",
        "\tat com.databricks.logging.AttributionContext$.$anonfun$withValue$1(AttributionContext.scala:271)",
        "\tat scala.util.DynamicVariable.withValue(DynamicVariable.scala:62)",
        "\tat com.databricks.logging.AttributionContext$.withValue(AttributionContext.scala:267)",
        "\tat com.databricks.logging.AttributionContextTracing.withAttributionContext(AttributionContextTracing.scala:46)",
        "\tat com.databricks.logging.AttributionContextTracing.withAttributionContext$(AttributionContextTracing.scala:43)",
        "\tat com.databricks.logging.activity.ActivityContextFactory$.withAttributionContext(ActivityContextFactory.scala:47)",
        "\tat com.databricks.logging.activity.ActivityContextFactory$.$anonfun$withActivityInternal$4(ActivityContextFactory.scala:638)",
        "\tat com.databricks.context.integrity.IntegrityCheckContext$ThreadLocalStorage$.withValue(IntegrityCheckContext.scala:73)",
        "\tat com.databricks.logging.activity.ActivityContextFactory$.withActivityInternal(ActivityContextFactory.scala:616)",
        "\tat com.databricks.logging.activity.ActivityContextFactory$.withServiceRequestActivity(ActivityContextFactory.scala:238)",
        "\tat com.databricks.rpc.JettyServer$RequestManager.handleHttp(JettyServer.scala:516)",
        "\tat com.databricks.rpc.JettyServer$RequestManager.doPost(JettyServer.scala:406)",
        "\tat javax.servlet.http.HttpServlet.service(HttpServlet.java:665)",
        "\tat com.databricks.rpc.HttpServletWithPatch.service(HttpServletWithPatch.scala:33)",
        "\tat javax.servlet.http.HttpServlet.service(HttpServlet.java:750)",
        "\tat org.eclipse.jetty.servlet.ServletHolder.handle(ServletHolder.java:799)",
        "\tat org.eclipse.jetty.servlet.ServletHandler.doHandle(ServletHandler.java:554)",
        "\tat org.eclipse.jetty.server.handler.ScopedHandler.nextScope(ScopedHandler.java:190)",
        "\tat org.eclipse.jetty.servlet.ServletHandler.doScope(ServletHandler.java:505)",
        "\tat org.eclipse.jetty.server.handler.ScopedHandler.handle(ScopedHandler.java:141)",
        "\tat org.eclipse.jetty.server.handler.HandlerWrapper.handle(HandlerWrapper.java:127)",
        "\tat org.eclipse.jetty.server.Server.handle(Server.java:516)",
        "\tat org.eclipse.jetty.server.HttpChannel.lambda$handle$1(HttpChannel.java:487)",
        "\tat org.eclipse.jetty.server.HttpChannel.dispatch(HttpChannel.java:732)",
        "\tat org.eclipse.jetty.server.HttpChannel.handle(HttpChannel.java:479)",
        "\tat org.eclipse.jetty.server.HttpConnection.onFillable(HttpConnection.java:277)",
        "\tat org.eclipse.jetty.io.AbstractConnection$ReadCallback.succeeded(AbstractConnection.java:311)",
        "\tat org.eclipse.jetty.io.FillInterest.fillable(FillInterest.java:105)",
        "\tat org.eclipse.jetty.io.ssl.SslConnection$DecryptedEndPoint.onFillable(SslConnection.java:555)",
        "\tat org.eclipse.jetty.io.ssl.SslConnection.onFillable(SslConnection.java:410)",
        "\tat org.eclipse.jetty.io.ssl.SslConnection$2.succeeded(SslConnection.java:164)",
        "\tat org.eclipse.jetty.io.FillInterest.fillable(FillInterest.java:105)",
        "\tat org.eclipse.jetty.io.ChannelEndPoint$1.run(ChannelEndPoint.java:104)",
        "\tat org.eclipse.jetty.util.thread.strategy.EatWhatYouKill.runTask(EatWhatYouKill.java:338)",
        "\tat org.eclipse.jetty.util.thread.strategy.EatWhatYouKill.doProduce(EatWhatYouKill.java:315)",
        "\tat org.eclipse.jetty.util.thread.strategy.EatWhatYouKill.tryProduce(EatWhatYouKill.java:173)",
        "\tat org.eclipse.jetty.util.thread.strategy.EatWhatYouKill.run(EatWhatYouKill.java:131)",
        "\tat org.eclipse.jetty.util.thread.ReservedThreadExecutor$ReservedThread.run(ReservedThreadExecutor.java:409)",
        "\tat com.databricks.rpc.InstrumentedQueuedThreadPool$$anon$1.$anonfun$run$2(InstrumentedQueuedThreadPool.scala:105)",
        "\tat scala.runtime.java8.JFunction0$mcV$sp.apply(JFunction0$mcV$sp.java:23)",
        "\tat com.databricks.logging.AttributionContextTracing.$anonfun$withAttributionContext$1(AttributionContextTracing.scala:48)",
        "\tat com.databricks.logging.AttributionContext$.$anonfun$withValue$1(AttributionContext.scala:271)",
        "\tat scala.util.DynamicVariable.withValue(DynamicVariable.scala:62)",
        "\tat com.databricks.logging.AttributionContext$.withValue(AttributionContext.scala:267)",
        "\tat com.databricks.logging.AttributionContextTracing.withAttributionContext(AttributionContextTracing.scala:46)",
        "\tat com.databricks.logging.AttributionContextTracing.withAttributionContext$(AttributionContextTracing.scala:43)",
        "\tat com.databricks.rpc.InstrumentedQueuedThreadPool.withAttributionContext(InstrumentedQueuedThreadPool.scala:45)",
        "\tat com.databricks.rpc.InstrumentedQueuedThreadPool$$anon$1.$anonfun$run$1(InstrumentedQueuedThreadPool.scala:105)",
        "\tat scala.runtime.java8.JFunction0$mcV$sp.apply(JFunction0$mcV$sp.java:23)",
        "\tat com.databricks.instrumentation.QueuedThreadPoolInstrumenter.trackActiveThreads(QueuedThreadPoolInstrumenter.scala:110)",
        "\tat com.databricks.instrumentation.QueuedThreadPoolInstrumenter.trackActiveThreads$(QueuedThreadPoolInstrumenter.scala:107)",
        "\tat com.databricks.rpc.InstrumentedQueuedThreadPool.trackActiveThreads(InstrumentedQueuedThreadPool.scala:45)",
        "\tat com.databricks.rpc.InstrumentedQueuedThreadPool$$anon$1.run(InstrumentedQueuedThreadPool.scala:87)",
        "\tat org.eclipse.jetty.util.thread.QueuedThreadPool.runJob(QueuedThreadPool.java:883)",
        "\tat org.eclipse.jetty.util.thread.QueuedThreadPool$Runner.run(QueuedThreadPool.java:1034)",
        "\tat java.base/java.lang.Thread.run(Thread.java:840)"
       ],
       "type": "baseError"
      }
     },
     "output_type": "display_data"
    }
   ],
   "source": [
    "#configurar ambiente\n",
    "\n",
    "spark.conf.set(\n",
    "  \"fs.azure.account.key.beeschallenge.dfs.core.windows.net\",\n",
    "  \"AZURE_SECRET_KEY\"\n",
    ")"
   ]
  },
  {
   "cell_type": "code",
   "execution_count": 0,
   "metadata": {
    "application/vnd.databricks.v1+cell": {
     "cellMetadata": {
      "byteLimit": 2048000,
      "rowLimit": 10000
     },
     "inputWidgets": {},
     "nuid": "feccb54b-eaeb-45ad-b3aa-9700c06a6fad",
     "showTitle": false,
     "tableResultSettingsMap": {},
     "title": ""
    }
   },
   "outputs": [
    {
     "data": {
      "text/plain": [
       "\u001b[0;31m---------------------------------------------------------------------------\u001b[0m\n",
       "\u001b[0;31mPy4JJavaError\u001b[0m                             Traceback (most recent call last)\n",
       "File \u001b[0;32m<command-5597029085538378>, line 1\u001b[0m\n",
       "\u001b[0;32m----> 1\u001b[0m df_bronze \u001b[38;5;241m=\u001b[39m spark\u001b[38;5;241m.\u001b[39mread\u001b[38;5;241m.\u001b[39mjson(\u001b[38;5;124m\"\u001b[39m\u001b[38;5;124mabfss://bronze@beeschallenge.dfs.core.windows.net/brewery_usa_100.json\u001b[39m\u001b[38;5;124m\"\u001b[39m)\n",
       "\u001b[1;32m      2\u001b[0m df_bronze\u001b[38;5;241m.\u001b[39mdisplay()\n",
       "\n",
       "File \u001b[0;32m/databricks/spark/python/pyspark/instrumentation_utils.py:47\u001b[0m, in \u001b[0;36m_wrap_function.<locals>.wrapper\u001b[0;34m(*args, **kwargs)\u001b[0m\n",
       "\u001b[1;32m     45\u001b[0m start \u001b[38;5;241m=\u001b[39m time\u001b[38;5;241m.\u001b[39mperf_counter()\n",
       "\u001b[1;32m     46\u001b[0m \u001b[38;5;28;01mtry\u001b[39;00m:\n",
       "\u001b[0;32m---> 47\u001b[0m     res \u001b[38;5;241m=\u001b[39m func(\u001b[38;5;241m*\u001b[39margs, \u001b[38;5;241m*\u001b[39m\u001b[38;5;241m*\u001b[39mkwargs)\n",
       "\u001b[1;32m     48\u001b[0m     logger\u001b[38;5;241m.\u001b[39mlog_success(\n",
       "\u001b[1;32m     49\u001b[0m         module_name, class_name, function_name, time\u001b[38;5;241m.\u001b[39mperf_counter() \u001b[38;5;241m-\u001b[39m start, signature\n",
       "\u001b[1;32m     50\u001b[0m     )\n",
       "\u001b[1;32m     51\u001b[0m     \u001b[38;5;28;01mreturn\u001b[39;00m res\n",
       "\n",
       "File \u001b[0;32m/databricks/spark/python/pyspark/sql/readwriter.py:469\u001b[0m, in \u001b[0;36mDataFrameReader.json\u001b[0;34m(self, path, schema, primitivesAsString, prefersDecimal, allowComments, allowUnquotedFieldNames, allowSingleQuotes, allowNumericLeadingZero, allowBackslashEscapingAnyCharacter, mode, columnNameOfCorruptRecord, dateFormat, timestampFormat, multiLine, allowUnquotedControlChars, lineSep, samplingRatio, dropFieldIfAllNull, encoding, locale, pathGlobFilter, recursiveFileLookup, modifiedBefore, modifiedAfter, allowNonNumericNumbers, useUnsafeRow)\u001b[0m\n",
       "\u001b[1;32m    467\u001b[0m \u001b[38;5;28;01mif\u001b[39;00m \u001b[38;5;28mtype\u001b[39m(path) \u001b[38;5;241m==\u001b[39m \u001b[38;5;28mlist\u001b[39m:\n",
       "\u001b[1;32m    468\u001b[0m     \u001b[38;5;28;01massert\u001b[39;00m \u001b[38;5;28mself\u001b[39m\u001b[38;5;241m.\u001b[39m_spark\u001b[38;5;241m.\u001b[39m_sc\u001b[38;5;241m.\u001b[39m_jvm \u001b[38;5;129;01mis\u001b[39;00m \u001b[38;5;129;01mnot\u001b[39;00m \u001b[38;5;28;01mNone\u001b[39;00m\n",
       "\u001b[0;32m--> 469\u001b[0m     \u001b[38;5;28;01mreturn\u001b[39;00m \u001b[38;5;28mself\u001b[39m\u001b[38;5;241m.\u001b[39m_df(\u001b[38;5;28mself\u001b[39m\u001b[38;5;241m.\u001b[39m_jreader\u001b[38;5;241m.\u001b[39mjson(\u001b[38;5;28mself\u001b[39m\u001b[38;5;241m.\u001b[39m_spark\u001b[38;5;241m.\u001b[39m_sc\u001b[38;5;241m.\u001b[39m_jvm\u001b[38;5;241m.\u001b[39mPythonUtils\u001b[38;5;241m.\u001b[39mtoSeq(path)))\n",
       "\u001b[1;32m    471\u001b[0m \u001b[38;5;28;01mif\u001b[39;00m \u001b[38;5;129;01mnot\u001b[39;00m is_remote_only():\n",
       "\u001b[1;32m    472\u001b[0m     \u001b[38;5;28;01mfrom\u001b[39;00m \u001b[38;5;21;01mpyspark\u001b[39;00m\u001b[38;5;21;01m.\u001b[39;00m\u001b[38;5;21;01mcore\u001b[39;00m\u001b[38;5;21;01m.\u001b[39;00m\u001b[38;5;21;01mrdd\u001b[39;00m \u001b[38;5;28;01mimport\u001b[39;00m RDD  \u001b[38;5;66;03m# noqa: F401\u001b[39;00m\n",
       "\n",
       "File \u001b[0;32m/databricks/spark/python/lib/py4j-0.10.9.7-src.zip/py4j/java_gateway.py:1355\u001b[0m, in \u001b[0;36mJavaMember.__call__\u001b[0;34m(self, *args)\u001b[0m\n",
       "\u001b[1;32m   1349\u001b[0m command \u001b[38;5;241m=\u001b[39m proto\u001b[38;5;241m.\u001b[39mCALL_COMMAND_NAME \u001b[38;5;241m+\u001b[39m\\\n",
       "\u001b[1;32m   1350\u001b[0m     \u001b[38;5;28mself\u001b[39m\u001b[38;5;241m.\u001b[39mcommand_header \u001b[38;5;241m+\u001b[39m\\\n",
       "\u001b[1;32m   1351\u001b[0m     args_command \u001b[38;5;241m+\u001b[39m\\\n",
       "\u001b[1;32m   1352\u001b[0m     proto\u001b[38;5;241m.\u001b[39mEND_COMMAND_PART\n",
       "\u001b[1;32m   1354\u001b[0m answer \u001b[38;5;241m=\u001b[39m \u001b[38;5;28mself\u001b[39m\u001b[38;5;241m.\u001b[39mgateway_client\u001b[38;5;241m.\u001b[39msend_command(command)\n",
       "\u001b[0;32m-> 1355\u001b[0m return_value \u001b[38;5;241m=\u001b[39m get_return_value(\n",
       "\u001b[1;32m   1356\u001b[0m     answer, \u001b[38;5;28mself\u001b[39m\u001b[38;5;241m.\u001b[39mgateway_client, \u001b[38;5;28mself\u001b[39m\u001b[38;5;241m.\u001b[39mtarget_id, \u001b[38;5;28mself\u001b[39m\u001b[38;5;241m.\u001b[39mname)\n",
       "\u001b[1;32m   1358\u001b[0m \u001b[38;5;28;01mfor\u001b[39;00m temp_arg \u001b[38;5;129;01min\u001b[39;00m temp_args:\n",
       "\u001b[1;32m   1359\u001b[0m     \u001b[38;5;28;01mif\u001b[39;00m \u001b[38;5;28mhasattr\u001b[39m(temp_arg, \u001b[38;5;124m\"\u001b[39m\u001b[38;5;124m_detach\u001b[39m\u001b[38;5;124m\"\u001b[39m):\n",
       "\n",
       "File \u001b[0;32m/databricks/spark/python/pyspark/errors/exceptions/captured.py:263\u001b[0m, in \u001b[0;36mcapture_sql_exception.<locals>.deco\u001b[0;34m(*a, **kw)\u001b[0m\n",
       "\u001b[1;32m    260\u001b[0m \u001b[38;5;28;01mfrom\u001b[39;00m \u001b[38;5;21;01mpy4j\u001b[39;00m\u001b[38;5;21;01m.\u001b[39;00m\u001b[38;5;21;01mprotocol\u001b[39;00m \u001b[38;5;28;01mimport\u001b[39;00m Py4JJavaError\n",
       "\u001b[1;32m    262\u001b[0m \u001b[38;5;28;01mtry\u001b[39;00m:\n",
       "\u001b[0;32m--> 263\u001b[0m     \u001b[38;5;28;01mreturn\u001b[39;00m f(\u001b[38;5;241m*\u001b[39ma, \u001b[38;5;241m*\u001b[39m\u001b[38;5;241m*\u001b[39mkw)\n",
       "\u001b[1;32m    264\u001b[0m \u001b[38;5;28;01mexcept\u001b[39;00m Py4JJavaError \u001b[38;5;28;01mas\u001b[39;00m e:\n",
       "\u001b[1;32m    265\u001b[0m     converted \u001b[38;5;241m=\u001b[39m convert_exception(e\u001b[38;5;241m.\u001b[39mjava_exception)\n",
       "\n",
       "File \u001b[0;32m/databricks/spark/python/lib/py4j-0.10.9.7-src.zip/py4j/protocol.py:326\u001b[0m, in \u001b[0;36mget_return_value\u001b[0;34m(answer, gateway_client, target_id, name)\u001b[0m\n",
       "\u001b[1;32m    324\u001b[0m value \u001b[38;5;241m=\u001b[39m OUTPUT_CONVERTER[\u001b[38;5;28mtype\u001b[39m](answer[\u001b[38;5;241m2\u001b[39m:], gateway_client)\n",
       "\u001b[1;32m    325\u001b[0m \u001b[38;5;28;01mif\u001b[39;00m answer[\u001b[38;5;241m1\u001b[39m] \u001b[38;5;241m==\u001b[39m REFERENCE_TYPE:\n",
       "\u001b[0;32m--> 326\u001b[0m     \u001b[38;5;28;01mraise\u001b[39;00m Py4JJavaError(\n",
       "\u001b[1;32m    327\u001b[0m         \u001b[38;5;124m\"\u001b[39m\u001b[38;5;124mAn error occurred while calling \u001b[39m\u001b[38;5;132;01m{0}\u001b[39;00m\u001b[38;5;132;01m{1}\u001b[39;00m\u001b[38;5;132;01m{2}\u001b[39;00m\u001b[38;5;124m.\u001b[39m\u001b[38;5;130;01m\\n\u001b[39;00m\u001b[38;5;124m\"\u001b[39m\u001b[38;5;241m.\u001b[39m\n",
       "\u001b[1;32m    328\u001b[0m         \u001b[38;5;28mformat\u001b[39m(target_id, \u001b[38;5;124m\"\u001b[39m\u001b[38;5;124m.\u001b[39m\u001b[38;5;124m\"\u001b[39m, name), value)\n",
       "\u001b[1;32m    329\u001b[0m \u001b[38;5;28;01melse\u001b[39;00m:\n",
       "\u001b[1;32m    330\u001b[0m     \u001b[38;5;28;01mraise\u001b[39;00m Py4JError(\n",
       "\u001b[1;32m    331\u001b[0m         \u001b[38;5;124m\"\u001b[39m\u001b[38;5;124mAn error occurred while calling \u001b[39m\u001b[38;5;132;01m{0}\u001b[39;00m\u001b[38;5;132;01m{1}\u001b[39;00m\u001b[38;5;132;01m{2}\u001b[39;00m\u001b[38;5;124m. Trace:\u001b[39m\u001b[38;5;130;01m\\n\u001b[39;00m\u001b[38;5;132;01m{3}\u001b[39;00m\u001b[38;5;130;01m\\n\u001b[39;00m\u001b[38;5;124m\"\u001b[39m\u001b[38;5;241m.\u001b[39m\n",
       "\u001b[1;32m    332\u001b[0m         \u001b[38;5;28mformat\u001b[39m(target_id, \u001b[38;5;124m\"\u001b[39m\u001b[38;5;124m.\u001b[39m\u001b[38;5;124m\"\u001b[39m, name, value))\n",
       "\n",
       "\u001b[0;31mPy4JJavaError\u001b[0m: An error occurred while calling o413.json.\n",
       ": Failure to initialize configuration for storage account beeschallenge.dfs.core.windows.net: Invalid configuration value detected for fs.azure.account.keyInvalid configuration value detected for fs.azure.account.key\n",
       "\tat shaded.databricks.azurebfs.org.apache.hadoop.fs.azurebfs.services.SimpleKeyProvider.getStorageAccountKey(SimpleKeyProvider.java:52)\n",
       "\tat shaded.databricks.azurebfs.org.apache.hadoop.fs.azurebfs.AbfsConfiguration.getStorageAccountKey(AbfsConfiguration.java:723)\n",
       "\tat shaded.databricks.azurebfs.org.apache.hadoop.fs.azurebfs.AzureBlobFileSystemStore.initializeClient(AzureBlobFileSystemStore.java:2311)\n",
       "\tat shaded.databricks.azurebfs.org.apache.hadoop.fs.azurebfs.AzureBlobFileSystemStore.<init>(AzureBlobFileSystemStore.java:296)\n",
       "\tat shaded.databricks.azurebfs.org.apache.hadoop.fs.azurebfs.AzureBlobFileSystem.initialize(AzureBlobFileSystem.java:252)\n",
       "\tat com.databricks.common.filesystem.LokiABFS.initialize(LokiABFS.scala:40)\n",
       "\tat com.databricks.common.filesystem.LokiFileSystem$.$anonfun$getLokiFS$1(LokiFileSystem.scala:163)\n",
       "\tat com.databricks.common.filesystem.FileSystemCache.getOrCompute(FileSystemCache.scala:60)\n",
       "\tat com.databricks.common.filesystem.LokiFileSystem$.getLokiFS(LokiFileSystem.scala:159)\n",
       "\tat com.databricks.common.filesystem.LokiFileSystem.initialize(LokiFileSystem.scala:253)\n",
       "\tat org.apache.hadoop.fs.FileSystem.createFileSystem(FileSystem.java:3611)\n",
       "\tat org.apache.hadoop.fs.FileSystem.get(FileSystem.java:554)\n",
       "\tat org.apache.hadoop.fs.Path.getFileSystem(Path.java:365)\n",
       "\tat org.apache.spark.sql.execution.streaming.FileStreamSink$.hasMetadata(FileStreamSink.scala:58)\n",
       "\tat org.apache.spark.sql.execution.datasources.DataSource.resolveRelation(DataSource.scala:421)\n",
       "\tat org.apache.spark.sql.DataFrameReader.loadV1Source(DataFrameReader.scala:394)\n",
       "\tat org.apache.spark.sql.DataFrameReader.$anonfun$load$2(DataFrameReader.scala:350)\n",
       "\tat scala.Option.getOrElse(Option.scala:189)\n",
       "\tat org.apache.spark.sql.DataFrameReader.load(DataFrameReader.scala:350)\n",
       "\tat org.apache.spark.sql.DataFrameReader.json(DataFrameReader.scala:528)\n",
       "\tat java.base/jdk.internal.reflect.NativeMethodAccessorImpl.invoke0(Native Method)\n",
       "\tat java.base/jdk.internal.reflect.NativeMethodAccessorImpl.invoke(NativeMethodAccessorImpl.java:77)\n",
       "\tat java.base/jdk.internal.reflect.DelegatingMethodAccessorImpl.invoke(DelegatingMethodAccessorImpl.java:43)\n",
       "\tat java.base/java.lang.reflect.Method.invoke(Method.java:568)\n",
       "\tat py4j.reflection.MethodInvoker.invoke(MethodInvoker.java:244)\n",
       "\tat py4j.reflection.ReflectionEngine.invoke(ReflectionEngine.java:397)\n",
       "\tat py4j.Gateway.invoke(Gateway.java:306)\n",
       "\tat py4j.commands.AbstractCommand.invokeMethod(AbstractCommand.java:132)\n",
       "\tat py4j.commands.CallCommand.execute(CallCommand.java:79)\n",
       "\tat py4j.ClientServerConnection.waitForCommands(ClientServerConnection.java:199)\n",
       "\tat py4j.ClientServerConnection.run(ClientServerConnection.java:119)\n",
       "\tat java.base/java.lang.Thread.run(Thread.java:840)\n",
       "Caused by: Invalid configuration value detected for fs.azure.account.key\n",
       "\tat shaded.databricks.azurebfs.org.apache.hadoop.fs.azurebfs.diagnostics.ConfigurationBasicValidator.validate(ConfigurationBasicValidator.java:49)\n",
       "\tat shaded.databricks.azurebfs.org.apache.hadoop.fs.azurebfs.diagnostics.Base64StringConfigurationBasicValidator.validate(Base64StringConfigurationBasicValidator.java:40)\n",
       "\tat shaded.databricks.azurebfs.org.apache.hadoop.fs.azurebfs.services.SimpleKeyProvider.validateStorageAccountKey(SimpleKeyProvider.java:71)\n",
       "\tat shaded.databricks.azurebfs.org.apache.hadoop.fs.azurebfs.services.SimpleKeyProvider.getStorageAccountKey(SimpleKeyProvider.java:49)\n",
       "\t... 31 more\n"
      ]
     },
     "metadata": {
      "application/vnd.databricks.v1+output": {
       "addedWidgets": {},
       "arguments": {},
       "datasetInfos": [],
       "jupyterProps": {
        "ename": "Py4JJavaError",
        "evalue": "An error occurred while calling o413.json.\n: Failure to initialize configuration for storage account beeschallenge.dfs.core.windows.net: Invalid configuration value detected for fs.azure.account.keyInvalid configuration value detected for fs.azure.account.key\n\tat shaded.databricks.azurebfs.org.apache.hadoop.fs.azurebfs.services.SimpleKeyProvider.getStorageAccountKey(SimpleKeyProvider.java:52)\n\tat shaded.databricks.azurebfs.org.apache.hadoop.fs.azurebfs.AbfsConfiguration.getStorageAccountKey(AbfsConfiguration.java:723)\n\tat shaded.databricks.azurebfs.org.apache.hadoop.fs.azurebfs.AzureBlobFileSystemStore.initializeClient(AzureBlobFileSystemStore.java:2311)\n\tat shaded.databricks.azurebfs.org.apache.hadoop.fs.azurebfs.AzureBlobFileSystemStore.<init>(AzureBlobFileSystemStore.java:296)\n\tat shaded.databricks.azurebfs.org.apache.hadoop.fs.azurebfs.AzureBlobFileSystem.initialize(AzureBlobFileSystem.java:252)\n\tat com.databricks.common.filesystem.LokiABFS.initialize(LokiABFS.scala:40)\n\tat com.databricks.common.filesystem.LokiFileSystem$.$anonfun$getLokiFS$1(LokiFileSystem.scala:163)\n\tat com.databricks.common.filesystem.FileSystemCache.getOrCompute(FileSystemCache.scala:60)\n\tat com.databricks.common.filesystem.LokiFileSystem$.getLokiFS(LokiFileSystem.scala:159)\n\tat com.databricks.common.filesystem.LokiFileSystem.initialize(LokiFileSystem.scala:253)\n\tat org.apache.hadoop.fs.FileSystem.createFileSystem(FileSystem.java:3611)\n\tat org.apache.hadoop.fs.FileSystem.get(FileSystem.java:554)\n\tat org.apache.hadoop.fs.Path.getFileSystem(Path.java:365)\n\tat org.apache.spark.sql.execution.streaming.FileStreamSink$.hasMetadata(FileStreamSink.scala:58)\n\tat org.apache.spark.sql.execution.datasources.DataSource.resolveRelation(DataSource.scala:421)\n\tat org.apache.spark.sql.DataFrameReader.loadV1Source(DataFrameReader.scala:394)\n\tat org.apache.spark.sql.DataFrameReader.$anonfun$load$2(DataFrameReader.scala:350)\n\tat scala.Option.getOrElse(Option.scala:189)\n\tat org.apache.spark.sql.DataFrameReader.load(DataFrameReader.scala:350)\n\tat org.apache.spark.sql.DataFrameReader.json(DataFrameReader.scala:528)\n\tat java.base/jdk.internal.reflect.NativeMethodAccessorImpl.invoke0(Native Method)\n\tat java.base/jdk.internal.reflect.NativeMethodAccessorImpl.invoke(NativeMethodAccessorImpl.java:77)\n\tat java.base/jdk.internal.reflect.DelegatingMethodAccessorImpl.invoke(DelegatingMethodAccessorImpl.java:43)\n\tat java.base/java.lang.reflect.Method.invoke(Method.java:568)\n\tat py4j.reflection.MethodInvoker.invoke(MethodInvoker.java:244)\n\tat py4j.reflection.ReflectionEngine.invoke(ReflectionEngine.java:397)\n\tat py4j.Gateway.invoke(Gateway.java:306)\n\tat py4j.commands.AbstractCommand.invokeMethod(AbstractCommand.java:132)\n\tat py4j.commands.CallCommand.execute(CallCommand.java:79)\n\tat py4j.ClientServerConnection.waitForCommands(ClientServerConnection.java:199)\n\tat py4j.ClientServerConnection.run(ClientServerConnection.java:119)\n\tat java.base/java.lang.Thread.run(Thread.java:840)\nCaused by: Invalid configuration value detected for fs.azure.account.key\n\tat shaded.databricks.azurebfs.org.apache.hadoop.fs.azurebfs.diagnostics.ConfigurationBasicValidator.validate(ConfigurationBasicValidator.java:49)\n\tat shaded.databricks.azurebfs.org.apache.hadoop.fs.azurebfs.diagnostics.Base64StringConfigurationBasicValidator.validate(Base64StringConfigurationBasicValidator.java:40)\n\tat shaded.databricks.azurebfs.org.apache.hadoop.fs.azurebfs.services.SimpleKeyProvider.validateStorageAccountKey(SimpleKeyProvider.java:71)\n\tat shaded.databricks.azurebfs.org.apache.hadoop.fs.azurebfs.services.SimpleKeyProvider.getStorageAccountKey(SimpleKeyProvider.java:49)\n\t... 31 more\n"
       },
       "metadata": {
        "errorSummary": "<span class='ansi-red-fg'>Py4JJavaError</span>: An error occurred while calling o413.json.\n: Failure to initialize configuration for storage account beeschallenge.dfs.core.windows.net: Invalid configuration value detected for fs.azure.account.keyInvalid configuration value detected for fs.azure.account.key\n\tat shaded.databricks.azurebfs.org.apache.hadoop.fs.azurebfs.services.SimpleKeyProvider.getStorageAccountKey(SimpleKeyProvider.java:52)\n\tat shaded.databricks.azurebfs.org.apache.hadoop.fs.azurebfs.AbfsConfiguration.getStorageAccountKey(AbfsConfiguration.java:723)\n\tat shaded.databricks.azurebfs.org.apache.hadoop.fs.azurebfs.AzureBlobFileSystemStore.initializeClient(AzureBlobFileSystemStore.java:2311)\n\tat shaded.databricks.azurebfs.org.apache.hadoop.fs.azurebfs.AzureBlobFileSystemStore.<init>(AzureBlobFileSystemStore.java:296)\n\tat shaded.databricks.azurebfs.org.apache.hadoop.fs.azurebfs.AzureBlobFileSystem.initialize(AzureBlobFileSystem.java:252)\n\tat com.databricks.common.filesystem.LokiABFS.initialize(LokiABFS.scala:40)\n\tat com.databricks.common.filesystem.LokiFileSystem$.$anonfun$getLokiFS$1(LokiFileSystem.scala:163)\n\tat com.databricks.common.filesystem.FileSystemCache.getOrCompute(FileSystemCache.scala:60)\n\tat com.databricks.common.filesystem.LokiFileSystem$.getLokiFS(LokiFileSystem.scala:159)\n\tat com.databricks.common.filesystem.LokiFileSystem.initialize(LokiFileSystem.scala:253)\n\tat org.apache.hadoop.fs.FileSystem.createFileSystem(FileSystem.java:3611)\n\tat org.apache.hadoop.fs.FileSystem.get(FileSystem.java:554)\n\tat org.apache.hadoop.fs.Path.getFileSystem(Path.java:365)\n\tat org.apache.spark.sql.execution.streaming.FileStreamSink$.hasMetadata(FileStreamSink.scala:58)\n\tat org.apache.spark.sql.execution.datasources.DataSource.resolveRelation(DataSource.scala:421)\n\tat org.apache.spark.sql.DataFrameReader.loadV1Source(DataFrameReader.scala:394)\n\tat org.apache.spark.sql.DataFrameReader.$anonfun$load$2(DataFrameReader.scala:350)\n\tat scala.Option.getOrElse(Option.scala:189)\n\tat org.apache.spark.sql.DataFrameReader.load(DataFrameReader.scala:350)\n\tat org.apache.spark.sql.DataFrameReader.json(DataFrameReader.scala:528)\n\tat java.base/jdk.internal.reflect.NativeMethodAccessorImpl.invoke0(Native Method)\n\tat java.base/jdk.internal.reflect.NativeMethodAccessorImpl.invoke(NativeMethodAccessorImpl.java:77)\n\tat java.base/jdk.internal.reflect.DelegatingMethodAccessorImpl.invoke(DelegatingMethodAccessorImpl.java:43)\n\tat java.base/java.lang.reflect.Method.invoke(Method.java:568)\n\tat py4j.reflection.MethodInvoker.invoke(MethodInvoker.java:244)\n\tat py4j.reflection.ReflectionEngine.invoke(ReflectionEngine.java:397)\n\tat py4j.Gateway.invoke(Gateway.java:306)\n\tat py4j.commands.AbstractCommand.invokeMethod(AbstractCommand.java:132)\n\tat py4j.commands.CallCommand.execute(CallCommand.java:79)\n\tat py4j.ClientServerConnection.waitForCommands(ClientServerConnection.java:199)\n\tat py4j.ClientServerConnection.run(ClientServerConnection.java:119)\n\tat java.base/java.lang.Thread.run(Thread.java:840)\nCaused by: Invalid configuration value detected for fs.azure.account.key\n\tat shaded.databricks.azurebfs.org.apache.hadoop.fs.azurebfs.diagnostics.ConfigurationBasicValidator.validate(ConfigurationBasicValidator.java:49)\n\tat shaded.databricks.azurebfs.org.apache.hadoop.fs.azurebfs.diagnostics.Base64StringConfigurationBasicValidator.validate(Base64StringConfigurationBasicValidator.java:40)\n\tat shaded.databricks.azurebfs.org.apache.hadoop.fs.azurebfs.services.SimpleKeyProvider.validateStorageAccountKey(SimpleKeyProvider.java:71)\n\tat shaded.databricks.azurebfs.org.apache.hadoop.fs.azurebfs.services.SimpleKeyProvider.getStorageAccountKey(SimpleKeyProvider.java:49)\n\t... 31 more\n"
       },
       "removedWidgets": [],
       "sqlProps": null,
       "stackFrames": [
        "\u001b[0;31m---------------------------------------------------------------------------\u001b[0m",
        "\u001b[0;31mPy4JJavaError\u001b[0m                             Traceback (most recent call last)",
        "File \u001b[0;32m<command-5597029085538378>, line 1\u001b[0m\n\u001b[0;32m----> 1\u001b[0m df_bronze \u001b[38;5;241m=\u001b[39m spark\u001b[38;5;241m.\u001b[39mread\u001b[38;5;241m.\u001b[39mjson(\u001b[38;5;124m\"\u001b[39m\u001b[38;5;124mabfss://bronze@beeschallenge.dfs.core.windows.net/brewery_usa_100.json\u001b[39m\u001b[38;5;124m\"\u001b[39m)\n\u001b[1;32m      2\u001b[0m df_bronze\u001b[38;5;241m.\u001b[39mdisplay()\n",
        "File \u001b[0;32m/databricks/spark/python/pyspark/instrumentation_utils.py:47\u001b[0m, in \u001b[0;36m_wrap_function.<locals>.wrapper\u001b[0;34m(*args, **kwargs)\u001b[0m\n\u001b[1;32m     45\u001b[0m start \u001b[38;5;241m=\u001b[39m time\u001b[38;5;241m.\u001b[39mperf_counter()\n\u001b[1;32m     46\u001b[0m \u001b[38;5;28;01mtry\u001b[39;00m:\n\u001b[0;32m---> 47\u001b[0m     res \u001b[38;5;241m=\u001b[39m func(\u001b[38;5;241m*\u001b[39margs, \u001b[38;5;241m*\u001b[39m\u001b[38;5;241m*\u001b[39mkwargs)\n\u001b[1;32m     48\u001b[0m     logger\u001b[38;5;241m.\u001b[39mlog_success(\n\u001b[1;32m     49\u001b[0m         module_name, class_name, function_name, time\u001b[38;5;241m.\u001b[39mperf_counter() \u001b[38;5;241m-\u001b[39m start, signature\n\u001b[1;32m     50\u001b[0m     )\n\u001b[1;32m     51\u001b[0m     \u001b[38;5;28;01mreturn\u001b[39;00m res\n",
        "File \u001b[0;32m/databricks/spark/python/pyspark/sql/readwriter.py:469\u001b[0m, in \u001b[0;36mDataFrameReader.json\u001b[0;34m(self, path, schema, primitivesAsString, prefersDecimal, allowComments, allowUnquotedFieldNames, allowSingleQuotes, allowNumericLeadingZero, allowBackslashEscapingAnyCharacter, mode, columnNameOfCorruptRecord, dateFormat, timestampFormat, multiLine, allowUnquotedControlChars, lineSep, samplingRatio, dropFieldIfAllNull, encoding, locale, pathGlobFilter, recursiveFileLookup, modifiedBefore, modifiedAfter, allowNonNumericNumbers, useUnsafeRow)\u001b[0m\n\u001b[1;32m    467\u001b[0m \u001b[38;5;28;01mif\u001b[39;00m \u001b[38;5;28mtype\u001b[39m(path) \u001b[38;5;241m==\u001b[39m \u001b[38;5;28mlist\u001b[39m:\n\u001b[1;32m    468\u001b[0m     \u001b[38;5;28;01massert\u001b[39;00m \u001b[38;5;28mself\u001b[39m\u001b[38;5;241m.\u001b[39m_spark\u001b[38;5;241m.\u001b[39m_sc\u001b[38;5;241m.\u001b[39m_jvm \u001b[38;5;129;01mis\u001b[39;00m \u001b[38;5;129;01mnot\u001b[39;00m \u001b[38;5;28;01mNone\u001b[39;00m\n\u001b[0;32m--> 469\u001b[0m     \u001b[38;5;28;01mreturn\u001b[39;00m \u001b[38;5;28mself\u001b[39m\u001b[38;5;241m.\u001b[39m_df(\u001b[38;5;28mself\u001b[39m\u001b[38;5;241m.\u001b[39m_jreader\u001b[38;5;241m.\u001b[39mjson(\u001b[38;5;28mself\u001b[39m\u001b[38;5;241m.\u001b[39m_spark\u001b[38;5;241m.\u001b[39m_sc\u001b[38;5;241m.\u001b[39m_jvm\u001b[38;5;241m.\u001b[39mPythonUtils\u001b[38;5;241m.\u001b[39mtoSeq(path)))\n\u001b[1;32m    471\u001b[0m \u001b[38;5;28;01mif\u001b[39;00m \u001b[38;5;129;01mnot\u001b[39;00m is_remote_only():\n\u001b[1;32m    472\u001b[0m     \u001b[38;5;28;01mfrom\u001b[39;00m \u001b[38;5;21;01mpyspark\u001b[39;00m\u001b[38;5;21;01m.\u001b[39;00m\u001b[38;5;21;01mcore\u001b[39;00m\u001b[38;5;21;01m.\u001b[39;00m\u001b[38;5;21;01mrdd\u001b[39;00m \u001b[38;5;28;01mimport\u001b[39;00m RDD  \u001b[38;5;66;03m# noqa: F401\u001b[39;00m\n",
        "File \u001b[0;32m/databricks/spark/python/lib/py4j-0.10.9.7-src.zip/py4j/java_gateway.py:1355\u001b[0m, in \u001b[0;36mJavaMember.__call__\u001b[0;34m(self, *args)\u001b[0m\n\u001b[1;32m   1349\u001b[0m command \u001b[38;5;241m=\u001b[39m proto\u001b[38;5;241m.\u001b[39mCALL_COMMAND_NAME \u001b[38;5;241m+\u001b[39m\\\n\u001b[1;32m   1350\u001b[0m     \u001b[38;5;28mself\u001b[39m\u001b[38;5;241m.\u001b[39mcommand_header \u001b[38;5;241m+\u001b[39m\\\n\u001b[1;32m   1351\u001b[0m     args_command \u001b[38;5;241m+\u001b[39m\\\n\u001b[1;32m   1352\u001b[0m     proto\u001b[38;5;241m.\u001b[39mEND_COMMAND_PART\n\u001b[1;32m   1354\u001b[0m answer \u001b[38;5;241m=\u001b[39m \u001b[38;5;28mself\u001b[39m\u001b[38;5;241m.\u001b[39mgateway_client\u001b[38;5;241m.\u001b[39msend_command(command)\n\u001b[0;32m-> 1355\u001b[0m return_value \u001b[38;5;241m=\u001b[39m get_return_value(\n\u001b[1;32m   1356\u001b[0m     answer, \u001b[38;5;28mself\u001b[39m\u001b[38;5;241m.\u001b[39mgateway_client, \u001b[38;5;28mself\u001b[39m\u001b[38;5;241m.\u001b[39mtarget_id, \u001b[38;5;28mself\u001b[39m\u001b[38;5;241m.\u001b[39mname)\n\u001b[1;32m   1358\u001b[0m \u001b[38;5;28;01mfor\u001b[39;00m temp_arg \u001b[38;5;129;01min\u001b[39;00m temp_args:\n\u001b[1;32m   1359\u001b[0m     \u001b[38;5;28;01mif\u001b[39;00m \u001b[38;5;28mhasattr\u001b[39m(temp_arg, \u001b[38;5;124m\"\u001b[39m\u001b[38;5;124m_detach\u001b[39m\u001b[38;5;124m\"\u001b[39m):\n",
        "File \u001b[0;32m/databricks/spark/python/pyspark/errors/exceptions/captured.py:263\u001b[0m, in \u001b[0;36mcapture_sql_exception.<locals>.deco\u001b[0;34m(*a, **kw)\u001b[0m\n\u001b[1;32m    260\u001b[0m \u001b[38;5;28;01mfrom\u001b[39;00m \u001b[38;5;21;01mpy4j\u001b[39;00m\u001b[38;5;21;01m.\u001b[39;00m\u001b[38;5;21;01mprotocol\u001b[39;00m \u001b[38;5;28;01mimport\u001b[39;00m Py4JJavaError\n\u001b[1;32m    262\u001b[0m \u001b[38;5;28;01mtry\u001b[39;00m:\n\u001b[0;32m--> 263\u001b[0m     \u001b[38;5;28;01mreturn\u001b[39;00m f(\u001b[38;5;241m*\u001b[39ma, \u001b[38;5;241m*\u001b[39m\u001b[38;5;241m*\u001b[39mkw)\n\u001b[1;32m    264\u001b[0m \u001b[38;5;28;01mexcept\u001b[39;00m Py4JJavaError \u001b[38;5;28;01mas\u001b[39;00m e:\n\u001b[1;32m    265\u001b[0m     converted \u001b[38;5;241m=\u001b[39m convert_exception(e\u001b[38;5;241m.\u001b[39mjava_exception)\n",
        "File \u001b[0;32m/databricks/spark/python/lib/py4j-0.10.9.7-src.zip/py4j/protocol.py:326\u001b[0m, in \u001b[0;36mget_return_value\u001b[0;34m(answer, gateway_client, target_id, name)\u001b[0m\n\u001b[1;32m    324\u001b[0m value \u001b[38;5;241m=\u001b[39m OUTPUT_CONVERTER[\u001b[38;5;28mtype\u001b[39m](answer[\u001b[38;5;241m2\u001b[39m:], gateway_client)\n\u001b[1;32m    325\u001b[0m \u001b[38;5;28;01mif\u001b[39;00m answer[\u001b[38;5;241m1\u001b[39m] \u001b[38;5;241m==\u001b[39m REFERENCE_TYPE:\n\u001b[0;32m--> 326\u001b[0m     \u001b[38;5;28;01mraise\u001b[39;00m Py4JJavaError(\n\u001b[1;32m    327\u001b[0m         \u001b[38;5;124m\"\u001b[39m\u001b[38;5;124mAn error occurred while calling \u001b[39m\u001b[38;5;132;01m{0}\u001b[39;00m\u001b[38;5;132;01m{1}\u001b[39;00m\u001b[38;5;132;01m{2}\u001b[39;00m\u001b[38;5;124m.\u001b[39m\u001b[38;5;130;01m\\n\u001b[39;00m\u001b[38;5;124m\"\u001b[39m\u001b[38;5;241m.\u001b[39m\n\u001b[1;32m    328\u001b[0m         \u001b[38;5;28mformat\u001b[39m(target_id, \u001b[38;5;124m\"\u001b[39m\u001b[38;5;124m.\u001b[39m\u001b[38;5;124m\"\u001b[39m, name), value)\n\u001b[1;32m    329\u001b[0m \u001b[38;5;28;01melse\u001b[39;00m:\n\u001b[1;32m    330\u001b[0m     \u001b[38;5;28;01mraise\u001b[39;00m Py4JError(\n\u001b[1;32m    331\u001b[0m         \u001b[38;5;124m\"\u001b[39m\u001b[38;5;124mAn error occurred while calling \u001b[39m\u001b[38;5;132;01m{0}\u001b[39;00m\u001b[38;5;132;01m{1}\u001b[39;00m\u001b[38;5;132;01m{2}\u001b[39;00m\u001b[38;5;124m. Trace:\u001b[39m\u001b[38;5;130;01m\\n\u001b[39;00m\u001b[38;5;132;01m{3}\u001b[39;00m\u001b[38;5;130;01m\\n\u001b[39;00m\u001b[38;5;124m\"\u001b[39m\u001b[38;5;241m.\u001b[39m\n\u001b[1;32m    332\u001b[0m         \u001b[38;5;28mformat\u001b[39m(target_id, \u001b[38;5;124m\"\u001b[39m\u001b[38;5;124m.\u001b[39m\u001b[38;5;124m\"\u001b[39m, name, value))\n",
        "\u001b[0;31mPy4JJavaError\u001b[0m: An error occurred while calling o413.json.\n: Failure to initialize configuration for storage account beeschallenge.dfs.core.windows.net: Invalid configuration value detected for fs.azure.account.keyInvalid configuration value detected for fs.azure.account.key\n\tat shaded.databricks.azurebfs.org.apache.hadoop.fs.azurebfs.services.SimpleKeyProvider.getStorageAccountKey(SimpleKeyProvider.java:52)\n\tat shaded.databricks.azurebfs.org.apache.hadoop.fs.azurebfs.AbfsConfiguration.getStorageAccountKey(AbfsConfiguration.java:723)\n\tat shaded.databricks.azurebfs.org.apache.hadoop.fs.azurebfs.AzureBlobFileSystemStore.initializeClient(AzureBlobFileSystemStore.java:2311)\n\tat shaded.databricks.azurebfs.org.apache.hadoop.fs.azurebfs.AzureBlobFileSystemStore.<init>(AzureBlobFileSystemStore.java:296)\n\tat shaded.databricks.azurebfs.org.apache.hadoop.fs.azurebfs.AzureBlobFileSystem.initialize(AzureBlobFileSystem.java:252)\n\tat com.databricks.common.filesystem.LokiABFS.initialize(LokiABFS.scala:40)\n\tat com.databricks.common.filesystem.LokiFileSystem$.$anonfun$getLokiFS$1(LokiFileSystem.scala:163)\n\tat com.databricks.common.filesystem.FileSystemCache.getOrCompute(FileSystemCache.scala:60)\n\tat com.databricks.common.filesystem.LokiFileSystem$.getLokiFS(LokiFileSystem.scala:159)\n\tat com.databricks.common.filesystem.LokiFileSystem.initialize(LokiFileSystem.scala:253)\n\tat org.apache.hadoop.fs.FileSystem.createFileSystem(FileSystem.java:3611)\n\tat org.apache.hadoop.fs.FileSystem.get(FileSystem.java:554)\n\tat org.apache.hadoop.fs.Path.getFileSystem(Path.java:365)\n\tat org.apache.spark.sql.execution.streaming.FileStreamSink$.hasMetadata(FileStreamSink.scala:58)\n\tat org.apache.spark.sql.execution.datasources.DataSource.resolveRelation(DataSource.scala:421)\n\tat org.apache.spark.sql.DataFrameReader.loadV1Source(DataFrameReader.scala:394)\n\tat org.apache.spark.sql.DataFrameReader.$anonfun$load$2(DataFrameReader.scala:350)\n\tat scala.Option.getOrElse(Option.scala:189)\n\tat org.apache.spark.sql.DataFrameReader.load(DataFrameReader.scala:350)\n\tat org.apache.spark.sql.DataFrameReader.json(DataFrameReader.scala:528)\n\tat java.base/jdk.internal.reflect.NativeMethodAccessorImpl.invoke0(Native Method)\n\tat java.base/jdk.internal.reflect.NativeMethodAccessorImpl.invoke(NativeMethodAccessorImpl.java:77)\n\tat java.base/jdk.internal.reflect.DelegatingMethodAccessorImpl.invoke(DelegatingMethodAccessorImpl.java:43)\n\tat java.base/java.lang.reflect.Method.invoke(Method.java:568)\n\tat py4j.reflection.MethodInvoker.invoke(MethodInvoker.java:244)\n\tat py4j.reflection.ReflectionEngine.invoke(ReflectionEngine.java:397)\n\tat py4j.Gateway.invoke(Gateway.java:306)\n\tat py4j.commands.AbstractCommand.invokeMethod(AbstractCommand.java:132)\n\tat py4j.commands.CallCommand.execute(CallCommand.java:79)\n\tat py4j.ClientServerConnection.waitForCommands(ClientServerConnection.java:199)\n\tat py4j.ClientServerConnection.run(ClientServerConnection.java:119)\n\tat java.base/java.lang.Thread.run(Thread.java:840)\nCaused by: Invalid configuration value detected for fs.azure.account.key\n\tat shaded.databricks.azurebfs.org.apache.hadoop.fs.azurebfs.diagnostics.ConfigurationBasicValidator.validate(ConfigurationBasicValidator.java:49)\n\tat shaded.databricks.azurebfs.org.apache.hadoop.fs.azurebfs.diagnostics.Base64StringConfigurationBasicValidator.validate(Base64StringConfigurationBasicValidator.java:40)\n\tat shaded.databricks.azurebfs.org.apache.hadoop.fs.azurebfs.services.SimpleKeyProvider.validateStorageAccountKey(SimpleKeyProvider.java:71)\n\tat shaded.databricks.azurebfs.org.apache.hadoop.fs.azurebfs.services.SimpleKeyProvider.getStorageAccountKey(SimpleKeyProvider.java:49)\n\t... 31 more\n"
       ],
       "type": "baseError"
      }
     },
     "output_type": "display_data"
    }
   ],
   "source": [
    "#declarar o df bronze para tratamento com os dados capturados da api\n",
    "\n",
    "df_bronze = spark.read.json(\"abfss://bronze@beeschallenge.dfs.core.windows.net/brewery_usa_100.json\")\n",
    "df_bronze.display()"
   ]
  },
  {
   "cell_type": "code",
   "execution_count": 0,
   "metadata": {
    "application/vnd.databricks.v1+cell": {
     "cellMetadata": {
      "byteLimit": 2048000,
      "rowLimit": 10000
     },
     "inputWidgets": {},
     "nuid": "e33a38cc-3e62-4bae-b954-760fd31b9f45",
     "showTitle": false,
     "tableResultSettingsMap": {},
     "title": ""
    }
   },
   "outputs": [],
   "source": [
    "from pyspark.sql.functions import col, lower\n",
    "\n",
    "# leitura da camada Bronze\n",
    "df_bronze = spark.read.json(\"abfss://bronze@beeschallenge.dfs.core.windows.net/brewery_usa_100.json\")\n",
    "\n",
    "# transformações\n",
    "df_silver = (\n",
    "    df_bronze\n",
    "    .filter(col(\"state\").isNotNull())                      # Remove registros sem estado\n",
    "    .withColumn(\"brewery_type\", lower(col(\"brewery_type\"))) # Padroniza brewery_type para lowercase\n",
    "    .dropDuplicates()                                      # Remove duplicatas (opcional)\n",
    ")\n",
    "\n",
    "# caminho Silver\n",
    "silver_path = \"abfss://silver@beeschallenge.dfs.core.windows.net/brewery_silver\"\n",
    "\n",
    "# gravação particionada por estado em formato delta\n",
    "df_silver.write.format(\"delta\") \\\n",
    "    .mode(\"overwrite\") \\\n",
    "    .partitionBy(\"state\") \\\n",
    "    .save(silver_path)"
   ]
  },
  {
   "cell_type": "code",
   "execution_count": 0,
   "metadata": {
    "application/vnd.databricks.v1+cell": {
     "cellMetadata": {
      "byteLimit": 2048000,
      "rowLimit": 10000
     },
     "inputWidgets": {},
     "nuid": "1869b05f-6576-494e-b11e-826795582ef7",
     "showTitle": false,
     "tableResultSettingsMap": {},
     "title": ""
    }
   },
   "outputs": [
    {
     "name": "stdout",
     "output_type": "stream",
     "text": [
      "+-----------------+---------+---------+------------+------------+-------------+--------------------+-----------+------------+--------------------+----------+-----------+--------+--------------+-----------------+--------------------+\n",
      "|        address_1|address_2|address_3|brewery_type|        city|      country|                  id|   latitude|   longitude|                name|     phone|postal_code|   state|state_province|           street|         website_url|\n",
      "+-----------------+---------+---------+------------+------------+-------------+--------------------+-----------+------------+--------------------+----------+-----------+--------+--------------+-----------------+--------------------+\n",
      "|  110 E Kansas St|     NULL|     NULL|     brewpub|     Liberty|United States|4f70ac94-eca5-4ce...| 39.2461993| -94.4190247|  3Halves Brewing Co|8164296886| 64068-2374|Missouri|      Missouri|  110 E Kansas St|http://www.3halve...|\n",
      "|   111 N Main St |     NULL|     NULL|       micro|Independence|United States|cb56e27e-d113-4f7...|  39.122385|   -94.41265| 3 Trails Brewing Co|8168866256|      64050|Missouri|      Missouri|   111 N Main St |http://www.3trail...|\n",
      "|1601 Sublette Ave|     NULL|     NULL|     brewpub| Saint Louis|United States|be0ec266-d637-42e...|  38.621943|  -90.280526|2nd Shift Brewing Co|6187910728| 63110-1924|Missouri|      Missouri|1601 Sublette Ave|http://www.2ndshi...|\n",
      "|2017 Chouteau Ave|     NULL|     NULL|     brewpub| Saint Louis|United States|84337872-75da-4cd...|  38.624291|  -90.213781| 21st St Brewers Bar|3142416969|      63103|Missouri|      Missouri|2017 Chouteau Ave|http://www.21stbr...|\n",
      "|   7391 Forbes Rd|     NULL|     NULL|       micro|  Cincinnati|United States|950180bd-29c9-46b...|39.12639764|-84.70634815|    13 Below Brewery|5139750613| 45233-1013|    Ohio|          Ohio|   7391 Forbes Rd|http://www.13belo...|\n",
      "+-----------------+---------+---------+------------+------------+-------------+--------------------+-----------+------------+--------------------+----------+-----------+--------+--------------+-----------------+--------------------+\n",
      "only showing top 5 rows\n",
      "\n"
     ]
    }
   ],
   "source": [
    "silver_path = \"abfss://silver@beeschallenge.dfs.core.windows.net/brewery_silver/\"\n",
    "\n",
    "df_silver = spark.read.format(\"delta\").load(silver_path)\n",
    "df_silver.show(5)"
   ]
  },
  {
   "cell_type": "code",
   "execution_count": 0,
   "metadata": {
    "application/vnd.databricks.v1+cell": {
     "cellMetadata": {
      "byteLimit": 2048000,
      "rowLimit": 10000
     },
     "inputWidgets": {},
     "nuid": "aa963cf0-98c9-4d50-92c3-ea1dd83aeb9d",
     "showTitle": false,
     "tableResultSettingsMap": {},
     "title": ""
    }
   },
   "outputs": [
    {
     "name": "stdout",
     "output_type": "stream",
     "text": [
      "+---------------------------------------------+------------+----------+----------------+-----------+------------+-------------+\n",
      "|name                                         |brewery_type|state     |city            |latitude   |longitude   |brewery_count|\n",
      "+---------------------------------------------+------------+----------+----------------+-----------+------------+-------------+\n",
      "|12 West Brewing Company                      |micro       |Arizona   |Gilbert         |NULL       |NULL        |1            |\n",
      "|12 West Brewing Company - Production Facility|micro       |Arizona   |Mesa            |33.436188  |-111.5860662|1            |\n",
      "|1912 Brewing                                 |micro       |Arizona   |Tucson          |32.24673727|-110.9927505|1            |\n",
      "|3 Iron Brewing Company                       |micro       |California|Colton          |34.05616889|-117.3066993|1            |\n",
      "|1850 Brewing Company                         |micro       |California|Mariposa        |37.570148  |-119.9036592|1            |\n",
      "|101 North Brewing Company                    |closed      |California|Petaluma        |38.27029381|-122.665055 |1            |\n",
      "|32 North Brewing Co                          |brewpub     |California|San Diego       |32.88313237|-117.1649842|1            |\n",
      "|10 Barrel Brewing Co                         |large       |California|San Diego       |32.714813  |-117.129593 |1            |\n",
      "|2Kids Brewing Company                        |micro       |California|San Diego       |32.896584  |-117.137429 |1            |\n",
      "|21st Amendment Brewery Cafe                  |brewpub     |California|San Francisco   |37.782448  |-122.3925769|1            |\n",
      "|21st Amendment Brewery                       |regional    |California|San Leandro     |37.71130036|-122.1772928|1            |\n",
      "|2 Tread Brewing Co                           |brewpub     |California|Santa Rosa      |38.4387767 |-122.7167729|1            |\n",
      "|3 Disciples Brewing                          |micro       |California|Sebastopol      |38.3845125 |-122.8332502|1            |\n",
      "|14 Cannons Brewing Company                   |micro       |California|Westlake Village|34.15334   |-118.802397 |1            |\n",
      "|105 West Brewing Co                          |micro       |Colorado  |Castle Rock     |39.38269495|-104.8667206|1            |\n",
      "|10 Barrel Brewing Co - Denver                |large       |Colorado  |Denver          |39.7592508 |-104.9853655|1            |\n",
      "|14er Brewing Company                         |proprietor  |Colorado  |Denver          |39.7614112 |-104.9839636|1            |\n",
      "|3 Freaks Brewing Co                          |micro       |Colorado  |Highlands Ranch |39.5659575 |-104.9426656|1            |\n",
      "|38 State Brewing                             |micro       |Colorado  |Littleton       |NULL       |NULL        |1            |\n",
      "|300 Suns Brewing Company                     |brewpub     |Colorado  |Longmont        |NULL       |NULL        |1            |\n",
      "+---------------------------------------------+------------+----------+----------------+-----------+------------+-------------+\n",
      "only showing top 20 rows\n",
      "\n"
     ]
    }
   ],
   "source": [
    "#camada gold com campos necessários para análise\n",
    "from pyspark.sql.functions import count\n",
    "df_gold = (\n",
    "\n",
    "    df_silver\n",
    "    .groupBy(\"name\",\"brewery_type\", \"state\", \"city\",\"latitude\",\"longitude\")\n",
    "    .agg(count(\"*\").alias(\"brewery_count\"))\n",
    "    .orderBy(\"state\", \"city\", \"brewery_type\")\n",
    ")\n",
    "\n",
    "# mostrar resultado\n",
    "df_gold.show(truncate=False)"
   ]
  },
  {
   "cell_type": "code",
   "execution_count": 0,
   "metadata": {
    "application/vnd.databricks.v1+cell": {
     "cellMetadata": {
      "byteLimit": 2048000,
      "rowLimit": 10000
     },
     "inputWidgets": {},
     "nuid": "f577379c-f9a6-4adc-9b66-c67559fed418",
     "showTitle": false,
     "tableResultSettingsMap": {},
     "title": ""
    }
   },
   "outputs": [],
   "source": [
    "gold_path = \"abfss://gold@beeschallenge.dfs.core.windows.net/brewery_gold_delta\"\n",
    "\n",
    "df_gold.write.format(\"delta\").mode(\"overwrite\").save(gold_path)"
   ]
  },
  {
   "cell_type": "code",
   "execution_count": 0,
   "metadata": {
    "application/vnd.databricks.v1+cell": {
     "cellMetadata": {
      "byteLimit": 2048000,
      "rowLimit": 10000
     },
     "inputWidgets": {},
     "nuid": "68327484-a7b0-4e6d-8af8-b2492326b92b",
     "showTitle": false,
     "tableResultSettingsMap": {},
     "title": ""
    }
   },
   "outputs": [
    {
     "data": {
      "text/html": [
       "<style scoped>\n",
       "  .table-result-container {\n",
       "    max-height: 300px;\n",
       "    overflow: auto;\n",
       "  }\n",
       "  table, th, td {\n",
       "    border: 1px solid black;\n",
       "    border-collapse: collapse;\n",
       "  }\n",
       "  th, td {\n",
       "    padding: 5px;\n",
       "  }\n",
       "  th {\n",
       "    text-align: left;\n",
       "  }\n",
       "</style><div class='table-result-container'><table class='table-result'><thead style='background-color: white'><tr><th>name</th><th>brewery_type</th><th>state</th><th>city</th><th>latitude</th><th>longitude</th><th>brewery_count</th></tr></thead><tbody><tr><td>12 West Brewing Company</td><td>micro</td><td>Arizona</td><td>Gilbert</td><td>null</td><td>null</td><td>1</td></tr><tr><td>12 West Brewing Company - Production Facility</td><td>micro</td><td>Arizona</td><td>Mesa</td><td>33.436188</td><td>-111.5860662</td><td>1</td></tr><tr><td>1912 Brewing</td><td>micro</td><td>Arizona</td><td>Tucson</td><td>32.24673727</td><td>-110.9927505</td><td>1</td></tr><tr><td>3 Iron Brewing Company</td><td>micro</td><td>California</td><td>Colton</td><td>34.05616889</td><td>-117.3066993</td><td>1</td></tr><tr><td>1850 Brewing Company</td><td>micro</td><td>California</td><td>Mariposa</td><td>37.570148</td><td>-119.9036592</td><td>1</td></tr><tr><td>101 North Brewing Company</td><td>closed</td><td>California</td><td>Petaluma</td><td>38.27029381</td><td>-122.665055</td><td>1</td></tr><tr><td>32 North Brewing Co</td><td>brewpub</td><td>California</td><td>San Diego</td><td>32.88313237</td><td>-117.1649842</td><td>1</td></tr><tr><td>10 Barrel Brewing Co</td><td>large</td><td>California</td><td>San Diego</td><td>32.714813</td><td>-117.129593</td><td>1</td></tr><tr><td>2Kids Brewing Company</td><td>micro</td><td>California</td><td>San Diego</td><td>32.896584</td><td>-117.137429</td><td>1</td></tr><tr><td>21st Amendment Brewery Cafe</td><td>brewpub</td><td>California</td><td>San Francisco</td><td>37.782448</td><td>-122.3925769</td><td>1</td></tr><tr><td>21st Amendment Brewery</td><td>regional</td><td>California</td><td>San Leandro</td><td>37.71130036</td><td>-122.1772928</td><td>1</td></tr><tr><td>2 Tread Brewing Co</td><td>brewpub</td><td>California</td><td>Santa Rosa</td><td>38.4387767</td><td>-122.7167729</td><td>1</td></tr><tr><td>3 Disciples Brewing</td><td>micro</td><td>California</td><td>Sebastopol</td><td>38.3845125</td><td>-122.8332502</td><td>1</td></tr><tr><td>14 Cannons Brewing Company</td><td>micro</td><td>California</td><td>Westlake Village</td><td>34.15334</td><td>-118.802397</td><td>1</td></tr><tr><td>105 West Brewing Co</td><td>micro</td><td>Colorado</td><td>Castle Rock</td><td>39.38269495</td><td>-104.8667206</td><td>1</td></tr><tr><td>10 Barrel Brewing Co - Denver</td><td>large</td><td>Colorado</td><td>Denver</td><td>39.7592508</td><td>-104.9853655</td><td>1</td></tr><tr><td>14er Brewing Company</td><td>proprietor</td><td>Colorado</td><td>Denver</td><td>39.7614112</td><td>-104.9839636</td><td>1</td></tr><tr><td>3 Freaks Brewing Co</td><td>micro</td><td>Colorado</td><td>Highlands Ranch</td><td>39.5659575</td><td>-104.9426656</td><td>1</td></tr><tr><td>38 State Brewing</td><td>micro</td><td>Colorado</td><td>Littleton</td><td>null</td><td>null</td><td>1</td></tr><tr><td>300 Suns Brewing Company</td><td>brewpub</td><td>Colorado</td><td>Longmont</td><td>null</td><td>null</td><td>1</td></tr><tr><td>12Degree Brewing</td><td>brewpub</td><td>Colorado</td><td>Louisville</td><td>39.9782443</td><td>-105.1319826</td><td>1</td></tr><tr><td>30 Mile Brewing Co.</td><td>closed</td><td>Connecticut</td><td>Old Saybrook</td><td>null</td><td>null</td><td>1</td></tr><tr><td>16 Mile Brewing Co</td><td>micro</td><td>Delaware</td><td>Georgetown</td><td>38.6788938</td><td>-75.37816436</td><td>1</td></tr><tr><td>38Â°-75Â° Brewing</td><td>brewpub</td><td>Delaware</td><td>Rehoboth Beach</td><td>38.7074994</td><td>-75.090191</td><td>1</td></tr><tr><td>3 Stars Brewing Co</td><td>micro</td><td>District of Columbia</td><td>Washington</td><td>null</td><td>null</td><td>1</td></tr><tr><td>3 Keys Brewing Company, LLC</td><td>brewpub</td><td>Florida</td><td>Bradenton</td><td>27.49645026</td><td>-82.53393502</td><td>1</td></tr><tr><td>3 Sons Brewing Co.</td><td>proprietor</td><td>Florida</td><td>Dania</td><td>26.04800238</td><td>-80.14361029</td><td>1</td></tr><tr><td>26 Degree Brewing Company</td><td>micro</td><td>Florida</td><td>Pompano Beach</td><td>26.2316338</td><td>-80.1224169</td><td>1</td></tr><tr><td>3 Daughters Brewing</td><td>micro</td><td>Florida</td><td>Saint Petersburg</td><td>27.76899022</td><td>-82.6629721</td><td>1</td></tr><tr><td>10 Barrel Brewing Co - Boise</td><td>large</td><td>Idaho</td><td>Boise</td><td>43.618516</td><td>-116.202929</td><td>1</td></tr><tr><td>2C Family Brewing Co.</td><td>micro</td><td>Idaho</td><td>Nampa</td><td>43.578989</td><td>-116.559282</td><td>1</td></tr><tr><td>1905 Brewing Company</td><td>micro</td><td>Illinois</td><td>Assumption</td><td>39.5172564</td><td>-89.0503635</td><td>1</td></tr><tr><td>350 Brewing Co</td><td>brewpub</td><td>Illinois</td><td>Tinley Park</td><td>41.55864726</td><td>-87.79160288</td><td>1</td></tr><tr><td>18th Street Brewery</td><td>micro</td><td>Indiana</td><td>Gary</td><td>41.59928343</td><td>-87.26887786</td><td>1</td></tr><tr><td>18th Street Brewery</td><td>micro</td><td>Indiana</td><td>Hammond</td><td>41.61556796</td><td>-87.517422</td><td>1</td></tr><tr><td>10-56 Brewing Company</td><td>micro</td><td>Indiana</td><td>Knox</td><td>41.289715</td><td>-86.627954</td><td>1</td></tr><tr><td>1717 Brewing Co</td><td>micro</td><td>Iowa</td><td>Des Moines</td><td>41.5872267</td><td>-93.6120353</td><td>1</td></tr><tr><td>23rd Street Brewery</td><td>brewpub</td><td>Kansas</td><td>Lawrence</td><td>38.9429674</td><td>-95.28093353</td><td>1</td></tr><tr><td>23 Brewing Company / Lizzie B's Cafe</td><td>brewpub</td><td>Kentucky</td><td>Prestonsburg</td><td>null</td><td>null</td><td>1</td></tr><tr><td>2 Feet Brewing Company</td><td>brewpub</td><td>Maine</td><td>Bangor</td><td>44.80012684</td><td>-68.77283099</td><td>1</td></tr><tr><td>1623 Brewing CO, llc</td><td>contract</td><td>Maryland</td><td>Westminister</td><td>null</td><td>null</td><td>1</td></tr><tr><td>10th District Brewing Company</td><td>micro</td><td>Massachusetts</td><td>Abington</td><td>42.10591754</td><td>-70.94594149</td><td>1</td></tr><tr><td>3 Beards Beer Company</td><td>contract</td><td>Massachusetts</td><td>Williamsburg</td><td>42.3923659</td><td>-72.7305059</td><td>1</td></tr><tr><td>3cross Fermentation Cooperative</td><td>micro</td><td>Massachusetts</td><td>Worcester</td><td>42.24364875</td><td>-71.83057593</td><td>1</td></tr><tr><td>127 Brewing</td><td>micro</td><td>Michigan</td><td>Jackson</td><td>42.28667212</td><td>-84.43116792</td><td>1</td></tr><tr><td>10K Brewing</td><td>micro</td><td>Minnesota</td><td>Anoka</td><td>45.19812039</td><td>-93.38952559</td><td>1</td></tr><tr><td>14 Lakes Brewery</td><td>micro</td><td>Minnesota</td><td>Crosslake</td><td>null</td><td>null</td><td>1</td></tr><tr><td>12welve Eyes Brewing</td><td>micro</td><td>Minnesota</td><td>Saint Paul</td><td>null</td><td>null</td><td>1</td></tr><tr><td>1817 Brewery</td><td>micro</td><td>Mississippi</td><td>okolona</td><td>34.001703</td><td>-88.750264</td><td>1</td></tr><tr><td>3 Trails Brewing Co</td><td>micro</td><td>Missouri</td><td>Independence</td><td>39.122385</td><td>-94.41265</td><td>1</td></tr><tr><td>3Halves Brewing Co</td><td>brewpub</td><td>Missouri</td><td>Liberty</td><td>39.2461993</td><td>-94.4190247</td><td>1</td></tr><tr><td>21st St Brewers Bar</td><td>brewpub</td><td>Missouri</td><td>Saint Louis</td><td>38.624291</td><td>-90.213781</td><td>1</td></tr><tr><td>2nd Shift Brewing Co</td><td>brewpub</td><td>Missouri</td><td>Saint Louis</td><td>38.621943</td><td>-90.280526</td><td>1</td></tr><tr><td>380 Brewing Company</td><td>planning</td><td>Montana</td><td>Clancy</td><td>null</td><td>null</td><td>1</td></tr><tr><td>2 Basset Brewery</td><td>micro</td><td>Montana</td><td>White Sulphur Springs</td><td>46.54807609</td><td>-110.9004865</td><td>1</td></tr><tr><td>10 Torr Distilling and Brewing</td><td>micro</td><td>Nevada</td><td>Reno</td><td>39.5171702</td><td>-119.7732015</td><td>1</td></tr><tr><td>2 Way Brewing Company</td><td>brewpub</td><td>New York</td><td>Beacon</td><td>41.5082102</td><td>-73.9809868</td><td>1</td></tr><tr><td>212 Brewing Company</td><td>contract</td><td>New York</td><td>Davenport</td><td>null</td><td>null</td><td>1</td></tr><tr><td>1940's Brewing Company</td><td>micro</td><td>New York</td><td>Holbrook</td><td>null</td><td>null</td><td>1</td></tr><tr><td>16 Stone Brewpub</td><td>brewpub</td><td>New York</td><td>Holland Patent</td><td>43.24211175</td><td>-75.2565195</td><td>1</td></tr><tr><td>12 Gates Brewing Company</td><td>brewpub</td><td>New York</td><td>Williamsville</td><td>null</td><td>null</td><td>1</td></tr><tr><td>1718 Ocracoke Brewing</td><td>brewpub</td><td>North Carolina</td><td>Ocracoke</td><td>35.10715368</td><td>-75.97176063</td><td>1</td></tr><tr><td>1323 R & D</td><td>micro</td><td>North Carolina</td><td>Raleigh</td><td>null</td><td>null</td><td>1</td></tr><tr><td>34 Degree North Experiment Station</td><td>micro</td><td>North Carolina</td><td>Shallotte</td><td>33.97270364</td><td>-78.38636517</td><td>1</td></tr><tr><td>217 Brew Works</td><td>micro</td><td>North Carolina</td><td>Wilson</td><td>35.7227625</td><td>-77.9120318</td><td>1</td></tr><tr><td>13 Below Brewery</td><td>micro</td><td>Ohio</td><td>Cincinnati</td><td>39.12639764</td><td>-84.70634815</td><td>1</td></tr><tr><td>16 Lots Brewing</td><td>brewpub</td><td>Ohio</td><td>Mason</td><td>39.3545967</td><td>-84.3183801</td><td>1</td></tr><tr><td>2 Tones Brewing Co.</td><td>micro</td><td>Ohio</td><td>Whitehall</td><td>40.0030689</td><td>-82.9118174</td><td>1</td></tr><tr><td>(405) Brewing Co</td><td>micro</td><td>Oklahoma</td><td>Norman</td><td>35.25738891</td><td>-97.46818222</td><td>1</td></tr><tr><td>3 Sheets Brewery</td><td>micro</td><td>Oregon</td><td>Albany</td><td>null</td><td>null</td><td>1</td></tr><tr><td>10 Barrel Brewing Co</td><td>large</td><td>Oregon</td><td>Bend</td><td>44.0575649</td><td>-121.3288021</td><td>1</td></tr><tr><td>10 Barrel Brewing Co - Bend Pub</td><td>large</td><td>Oregon</td><td>Bend</td><td>44.0912109</td><td>-121.2809536</td><td>1</td></tr><tr><td>10 Barrel Brewing Co</td><td>large</td><td>Oregon</td><td>Bend</td><td>44.08683531</td><td>-121.281706</td><td>1</td></tr><tr><td>1188 Brewing Co</td><td>brewpub</td><td>Oregon</td><td>John Day</td><td>44.4146563</td><td>-118.9218754</td><td>1</td></tr><tr><td>13 Virtues Brewing Co</td><td>brewpub</td><td>Oregon</td><td>Portland</td><td>45.4762536</td><td>-122.6487531</td><td>1</td></tr><tr><td>10 Barrel Brewing Co</td><td>large</td><td>Oregon</td><td>Portland</td><td>45.5259786</td><td>-122.6855056</td><td>1</td></tr><tr><td>2SP Brewing Company</td><td>micro</td><td>Pennsylvania</td><td>Aston</td><td>null</td><td>null</td><td>1</td></tr><tr><td>180 and Tapped</td><td>micro</td><td>Pennsylvania</td><td>Coraopolis</td><td>40.50984957</td><td>-80.15020356</td><td>1</td></tr><tr><td>2 Dogz and A Guy Brewing</td><td>micro</td><td>Pennsylvania</td><td>Montrose</td><td>41.8336364</td><td>-75.8800318</td><td>1</td></tr><tr><td>2nd Story Brewing Company</td><td>brewpub</td><td>Pennsylvania</td><td>Philadelphia</td><td>null</td><td>null</td><td>1</td></tr><tr><td>13 Stripes Brewery</td><td>brewpub</td><td>South Carolina</td><td>Taylors</td><td>null</td><td>null</td><td>1</td></tr><tr><td>(512) Brewing Co</td><td>micro</td><td>Texas</td><td>Austin</td><td>null</td><td>null</td><td>1</td></tr><tr><td>3 Nations Brewing</td><td>micro</td><td>Texas</td><td>Farmers Branch</td><td>32.93044336</td><td>-96.89883128</td><td>1</td></tr><tr><td>11 Below Brewing Company</td><td>micro</td><td>Texas</td><td>Houston</td><td>29.9515464</td><td>-95.5186591</td><td>1</td></tr><tr><td>28th State Brewing</td><td>planning</td><td>Texas</td><td>Houston</td><td>null</td><td>null</td><td>1</td></tr><tr><td>2 Row Brewing</td><td>micro</td><td>Utah</td><td>Midvale</td><td>40.5950202</td><td>-111.9007652</td><td>1</td></tr><tr><td>1st Republic Brewing Co</td><td>micro</td><td>Vermont</td><td>Essex Junction</td><td>null</td><td>null</td><td>1</td></tr><tr><td>14th Star Brewing</td><td>micro</td><td>Vermont</td><td>Saint Albans</td><td>null</td><td>null</td><td>1</td></tr><tr><td>2 Witches Winery and Brewing Company</td><td>micro</td><td>Virginia</td><td>Danville</td><td>36.58590349</td><td>-79.42125553</td><td>1</td></tr><tr><td>2 Silos Brewing Company</td><td>micro</td><td>Virginia</td><td>Manassas</td><td>null</td><td>null</td><td>1</td></tr><tr><td>1781 Brewing Company</td><td>micro</td><td>Virginia</td><td>Spotsylvania</td><td>null</td><td>null</td><td>1</td></tr><tr><td>210 Brewing Co</td><td>brewpub</td><td>Washington</td><td>Arlington</td><td>48.215096</td><td>-122.18421</td><td>1</td></tr><tr><td>122 West Brewing Co</td><td>closed</td><td>Washington</td><td>Bellingham</td><td>48.7621709</td><td>-122.485982</td><td>1</td></tr><tr><td>192 Brewing</td><td>micro</td><td>Washington</td><td>Kenmore</td><td>47.75670075</td><td>-122.2415652</td><td>1</td></tr><tr><td>238 Brewing Company</td><td>closed</td><td>Washington</td><td>Mead</td><td>null</td><td>null</td><td>1</td></tr><tr><td>23rd Ave Brewery</td><td>micro</td><td>Washington</td><td>Seattle</td><td>47.599163</td><td>-122.301811</td><td>1</td></tr><tr><td>20 Corners Brewing LLC</td><td>brewpub</td><td>Washington</td><td>Woodinville</td><td>47.76864301</td><td>-122.1517007</td><td>1</td></tr><tr><td>1840 Brewing Company</td><td>micro</td><td>Wisconsin</td><td>Milwaukee</td><td>43.00436242</td><td>-87.90606942</td><td>1</td></tr><tr><td>1 of Us Brewing Company</td><td>micro</td><td>Wisconsin</td><td>Mount Pleasant</td><td>42.720108268996</td><td>-87.883363502094</td><td>1</td></tr><tr><td>3 Sheeps Brewing Co</td><td>micro</td><td>Wisconsin</td><td>Sheboygan</td><td>43.77384561</td><td>-87.73006524</td><td>1</td></tr></tbody></table></div>"
      ]
     },
     "metadata": {
      "application/vnd.databricks.v1+output": {
       "addedWidgets": {},
       "aggData": [],
       "aggError": "",
       "aggOverflow": false,
       "aggSchema": [],
       "aggSeriesLimitReached": false,
       "aggType": "",
       "arguments": {},
       "columnCustomDisplayInfos": {},
       "data": [
        [
         "12 West Brewing Company",
         "micro",
         "Arizona",
         "Gilbert",
         null,
         null,
         1
        ],
        [
         "12 West Brewing Company - Production Facility",
         "micro",
         "Arizona",
         "Mesa",
         33.436188,
         -111.5860662,
         1
        ],
        [
         "1912 Brewing",
         "micro",
         "Arizona",
         "Tucson",
         32.24673727,
         -110.9927505,
         1
        ],
        [
         "3 Iron Brewing Company",
         "micro",
         "California",
         "Colton",
         34.05616889,
         -117.3066993,
         1
        ],
        [
         "1850 Brewing Company",
         "micro",
         "California",
         "Mariposa",
         37.570148,
         -119.9036592,
         1
        ],
        [
         "101 North Brewing Company",
         "closed",
         "California",
         "Petaluma",
         38.27029381,
         -122.665055,
         1
        ],
        [
         "32 North Brewing Co",
         "brewpub",
         "California",
         "San Diego",
         32.88313237,
         -117.1649842,
         1
        ],
        [
         "10 Barrel Brewing Co",
         "large",
         "California",
         "San Diego",
         32.714813,
         -117.129593,
         1
        ],
        [
         "2Kids Brewing Company",
         "micro",
         "California",
         "San Diego",
         32.896584,
         -117.137429,
         1
        ],
        [
         "21st Amendment Brewery Cafe",
         "brewpub",
         "California",
         "San Francisco",
         37.782448,
         -122.3925769,
         1
        ],
        [
         "21st Amendment Brewery",
         "regional",
         "California",
         "San Leandro",
         37.71130036,
         -122.1772928,
         1
        ],
        [
         "2 Tread Brewing Co",
         "brewpub",
         "California",
         "Santa Rosa",
         38.4387767,
         -122.7167729,
         1
        ],
        [
         "3 Disciples Brewing",
         "micro",
         "California",
         "Sebastopol",
         38.3845125,
         -122.8332502,
         1
        ],
        [
         "14 Cannons Brewing Company",
         "micro",
         "California",
         "Westlake Village",
         34.15334,
         -118.802397,
         1
        ],
        [
         "105 West Brewing Co",
         "micro",
         "Colorado",
         "Castle Rock",
         39.38269495,
         -104.8667206,
         1
        ],
        [
         "10 Barrel Brewing Co - Denver",
         "large",
         "Colorado",
         "Denver",
         39.7592508,
         -104.9853655,
         1
        ],
        [
         "14er Brewing Company",
         "proprietor",
         "Colorado",
         "Denver",
         39.7614112,
         -104.9839636,
         1
        ],
        [
         "3 Freaks Brewing Co",
         "micro",
         "Colorado",
         "Highlands Ranch",
         39.5659575,
         -104.9426656,
         1
        ],
        [
         "38 State Brewing",
         "micro",
         "Colorado",
         "Littleton",
         null,
         null,
         1
        ],
        [
         "300 Suns Brewing Company",
         "brewpub",
         "Colorado",
         "Longmont",
         null,
         null,
         1
        ],
        [
         "12Degree Brewing",
         "brewpub",
         "Colorado",
         "Louisville",
         39.9782443,
         -105.1319826,
         1
        ],
        [
         "30 Mile Brewing Co.",
         "closed",
         "Connecticut",
         "Old Saybrook",
         null,
         null,
         1
        ],
        [
         "16 Mile Brewing Co",
         "micro",
         "Delaware",
         "Georgetown",
         38.6788938,
         -75.37816436,
         1
        ],
        [
         "38Â°-75Â° Brewing",
         "brewpub",
         "Delaware",
         "Rehoboth Beach",
         38.7074994,
         -75.090191,
         1
        ],
        [
         "3 Stars Brewing Co",
         "micro",
         "District of Columbia",
         "Washington",
         null,
         null,
         1
        ],
        [
         "3 Keys Brewing Company, LLC",
         "brewpub",
         "Florida",
         "Bradenton",
         27.49645026,
         -82.53393502,
         1
        ],
        [
         "3 Sons Brewing Co.",
         "proprietor",
         "Florida",
         "Dania",
         26.04800238,
         -80.14361029,
         1
        ],
        [
         "26 Degree Brewing Company",
         "micro",
         "Florida",
         "Pompano Beach",
         26.2316338,
         -80.1224169,
         1
        ],
        [
         "3 Daughters Brewing",
         "micro",
         "Florida",
         "Saint Petersburg",
         27.76899022,
         -82.6629721,
         1
        ],
        [
         "10 Barrel Brewing Co - Boise",
         "large",
         "Idaho",
         "Boise",
         43.618516,
         -116.202929,
         1
        ],
        [
         "2C Family Brewing Co.",
         "micro",
         "Idaho",
         "Nampa",
         43.578989,
         -116.559282,
         1
        ],
        [
         "1905 Brewing Company",
         "micro",
         "Illinois",
         "Assumption",
         39.5172564,
         -89.0503635,
         1
        ],
        [
         "350 Brewing Co",
         "brewpub",
         "Illinois",
         "Tinley Park",
         41.55864726,
         -87.79160288,
         1
        ],
        [
         "18th Street Brewery",
         "micro",
         "Indiana",
         "Gary",
         41.59928343,
         -87.26887786,
         1
        ],
        [
         "18th Street Brewery",
         "micro",
         "Indiana",
         "Hammond",
         41.61556796,
         -87.517422,
         1
        ],
        [
         "10-56 Brewing Company",
         "micro",
         "Indiana",
         "Knox",
         41.289715,
         -86.627954,
         1
        ],
        [
         "1717 Brewing Co",
         "micro",
         "Iowa",
         "Des Moines",
         41.5872267,
         -93.6120353,
         1
        ],
        [
         "23rd Street Brewery",
         "brewpub",
         "Kansas",
         "Lawrence",
         38.9429674,
         -95.28093353,
         1
        ],
        [
         "23 Brewing Company / Lizzie B's Cafe",
         "brewpub",
         "Kentucky",
         "Prestonsburg",
         null,
         null,
         1
        ],
        [
         "2 Feet Brewing Company",
         "brewpub",
         "Maine",
         "Bangor",
         44.80012684,
         -68.77283099,
         1
        ],
        [
         "1623 Brewing CO, llc",
         "contract",
         "Maryland",
         "Westminister",
         null,
         null,
         1
        ],
        [
         "10th District Brewing Company",
         "micro",
         "Massachusetts",
         "Abington",
         42.10591754,
         -70.94594149,
         1
        ],
        [
         "3 Beards Beer Company",
         "contract",
         "Massachusetts",
         "Williamsburg",
         42.3923659,
         -72.7305059,
         1
        ],
        [
         "3cross Fermentation Cooperative",
         "micro",
         "Massachusetts",
         "Worcester",
         42.24364875,
         -71.83057593,
         1
        ],
        [
         "127 Brewing",
         "micro",
         "Michigan",
         "Jackson",
         42.28667212,
         -84.43116792,
         1
        ],
        [
         "10K Brewing",
         "micro",
         "Minnesota",
         "Anoka",
         45.19812039,
         -93.38952559,
         1
        ],
        [
         "14 Lakes Brewery",
         "micro",
         "Minnesota",
         "Crosslake",
         null,
         null,
         1
        ],
        [
         "12welve Eyes Brewing",
         "micro",
         "Minnesota",
         "Saint Paul",
         null,
         null,
         1
        ],
        [
         "1817 Brewery",
         "micro",
         "Mississippi",
         "okolona",
         34.001703,
         -88.750264,
         1
        ],
        [
         "3 Trails Brewing Co",
         "micro",
         "Missouri",
         "Independence",
         39.122385,
         -94.41265,
         1
        ],
        [
         "3Halves Brewing Co",
         "brewpub",
         "Missouri",
         "Liberty",
         39.2461993,
         -94.4190247,
         1
        ],
        [
         "21st St Brewers Bar",
         "brewpub",
         "Missouri",
         "Saint Louis",
         38.624291,
         -90.213781,
         1
        ],
        [
         "2nd Shift Brewing Co",
         "brewpub",
         "Missouri",
         "Saint Louis",
         38.621943,
         -90.280526,
         1
        ],
        [
         "380 Brewing Company",
         "planning",
         "Montana",
         "Clancy",
         null,
         null,
         1
        ],
        [
         "2 Basset Brewery",
         "micro",
         "Montana",
         "White Sulphur Springs",
         46.54807609,
         -110.9004865,
         1
        ],
        [
         "10 Torr Distilling and Brewing",
         "micro",
         "Nevada",
         "Reno",
         39.5171702,
         -119.7732015,
         1
        ],
        [
         "2 Way Brewing Company",
         "brewpub",
         "New York",
         "Beacon",
         41.5082102,
         -73.9809868,
         1
        ],
        [
         "212 Brewing Company",
         "contract",
         "New York",
         "Davenport",
         null,
         null,
         1
        ],
        [
         "1940's Brewing Company",
         "micro",
         "New York",
         "Holbrook",
         null,
         null,
         1
        ],
        [
         "16 Stone Brewpub",
         "brewpub",
         "New York",
         "Holland Patent",
         43.24211175,
         -75.2565195,
         1
        ],
        [
         "12 Gates Brewing Company",
         "brewpub",
         "New York",
         "Williamsville",
         null,
         null,
         1
        ],
        [
         "1718 Ocracoke Brewing",
         "brewpub",
         "North Carolina",
         "Ocracoke",
         35.10715368,
         -75.97176063,
         1
        ],
        [
         "1323 R & D",
         "micro",
         "North Carolina",
         "Raleigh",
         null,
         null,
         1
        ],
        [
         "34 Degree North Experiment Station",
         "micro",
         "North Carolina",
         "Shallotte",
         33.97270364,
         -78.38636517,
         1
        ],
        [
         "217 Brew Works",
         "micro",
         "North Carolina",
         "Wilson",
         35.7227625,
         -77.9120318,
         1
        ],
        [
         "13 Below Brewery",
         "micro",
         "Ohio",
         "Cincinnati",
         39.12639764,
         -84.70634815,
         1
        ],
        [
         "16 Lots Brewing",
         "brewpub",
         "Ohio",
         "Mason",
         39.3545967,
         -84.3183801,
         1
        ],
        [
         "2 Tones Brewing Co.",
         "micro",
         "Ohio",
         "Whitehall",
         40.0030689,
         -82.9118174,
         1
        ],
        [
         "(405) Brewing Co",
         "micro",
         "Oklahoma",
         "Norman",
         35.25738891,
         -97.46818222,
         1
        ],
        [
         "3 Sheets Brewery",
         "micro",
         "Oregon",
         "Albany",
         null,
         null,
         1
        ],
        [
         "10 Barrel Brewing Co",
         "large",
         "Oregon",
         "Bend",
         44.0575649,
         -121.3288021,
         1
        ],
        [
         "10 Barrel Brewing Co - Bend Pub",
         "large",
         "Oregon",
         "Bend",
         44.0912109,
         -121.2809536,
         1
        ],
        [
         "10 Barrel Brewing Co",
         "large",
         "Oregon",
         "Bend",
         44.08683531,
         -121.281706,
         1
        ],
        [
         "1188 Brewing Co",
         "brewpub",
         "Oregon",
         "John Day",
         44.4146563,
         -118.9218754,
         1
        ],
        [
         "13 Virtues Brewing Co",
         "brewpub",
         "Oregon",
         "Portland",
         45.4762536,
         -122.6487531,
         1
        ],
        [
         "10 Barrel Brewing Co",
         "large",
         "Oregon",
         "Portland",
         45.5259786,
         -122.6855056,
         1
        ],
        [
         "2SP Brewing Company",
         "micro",
         "Pennsylvania",
         "Aston",
         null,
         null,
         1
        ],
        [
         "180 and Tapped",
         "micro",
         "Pennsylvania",
         "Coraopolis",
         40.50984957,
         -80.15020356,
         1
        ],
        [
         "2 Dogz and A Guy Brewing",
         "micro",
         "Pennsylvania",
         "Montrose",
         41.8336364,
         -75.8800318,
         1
        ],
        [
         "2nd Story Brewing Company",
         "brewpub",
         "Pennsylvania",
         "Philadelphia",
         null,
         null,
         1
        ],
        [
         "13 Stripes Brewery",
         "brewpub",
         "South Carolina",
         "Taylors",
         null,
         null,
         1
        ],
        [
         "(512) Brewing Co",
         "micro",
         "Texas",
         "Austin",
         null,
         null,
         1
        ],
        [
         "3 Nations Brewing",
         "micro",
         "Texas",
         "Farmers Branch",
         32.93044336,
         -96.89883128,
         1
        ],
        [
         "11 Below Brewing Company",
         "micro",
         "Texas",
         "Houston",
         29.9515464,
         -95.5186591,
         1
        ],
        [
         "28th State Brewing",
         "planning",
         "Texas",
         "Houston",
         null,
         null,
         1
        ],
        [
         "2 Row Brewing",
         "micro",
         "Utah",
         "Midvale",
         40.5950202,
         -111.9007652,
         1
        ],
        [
         "1st Republic Brewing Co",
         "micro",
         "Vermont",
         "Essex Junction",
         null,
         null,
         1
        ],
        [
         "14th Star Brewing",
         "micro",
         "Vermont",
         "Saint Albans",
         null,
         null,
         1
        ],
        [
         "2 Witches Winery and Brewing Company",
         "micro",
         "Virginia",
         "Danville",
         36.58590349,
         -79.42125553,
         1
        ],
        [
         "2 Silos Brewing Company",
         "micro",
         "Virginia",
         "Manassas",
         null,
         null,
         1
        ],
        [
         "1781 Brewing Company",
         "micro",
         "Virginia",
         "Spotsylvania",
         null,
         null,
         1
        ],
        [
         "210 Brewing Co",
         "brewpub",
         "Washington",
         "Arlington",
         48.215096,
         -122.18421,
         1
        ],
        [
         "122 West Brewing Co",
         "closed",
         "Washington",
         "Bellingham",
         48.7621709,
         -122.485982,
         1
        ],
        [
         "192 Brewing",
         "micro",
         "Washington",
         "Kenmore",
         47.75670075,
         -122.2415652,
         1
        ],
        [
         "238 Brewing Company",
         "closed",
         "Washington",
         "Mead",
         null,
         null,
         1
        ],
        [
         "23rd Ave Brewery",
         "micro",
         "Washington",
         "Seattle",
         47.599163,
         -122.301811,
         1
        ],
        [
         "20 Corners Brewing LLC",
         "brewpub",
         "Washington",
         "Woodinville",
         47.76864301,
         -122.1517007,
         1
        ],
        [
         "1840 Brewing Company",
         "micro",
         "Wisconsin",
         "Milwaukee",
         43.00436242,
         -87.90606942,
         1
        ],
        [
         "1 of Us Brewing Company",
         "micro",
         "Wisconsin",
         "Mount Pleasant",
         42.720108268996,
         -87.883363502094,
         1
        ],
        [
         "3 Sheeps Brewing Co",
         "micro",
         "Wisconsin",
         "Sheboygan",
         43.77384561,
         -87.73006524,
         1
        ]
       ],
       "datasetInfos": [],
       "dbfsResultPath": null,
       "isJsonSchema": true,
       "metadata": {},
       "overflow": false,
       "plotOptions": {
        "customPlotOptions": {},
        "displayType": "table",
        "pivotAggregation": null,
        "pivotColumns": null,
        "xColumns": null,
        "yColumns": null
       },
       "removedWidgets": [],
       "schema": [
        {
         "metadata": "{}",
         "name": "name",
         "type": "\"string\""
        },
        {
         "metadata": "{}",
         "name": "brewery_type",
         "type": "\"string\""
        },
        {
         "metadata": "{}",
         "name": "state",
         "type": "\"string\""
        },
        {
         "metadata": "{}",
         "name": "city",
         "type": "\"string\""
        },
        {
         "metadata": "{}",
         "name": "latitude",
         "type": "\"double\""
        },
        {
         "metadata": "{}",
         "name": "longitude",
         "type": "\"double\""
        },
        {
         "metadata": "{}",
         "name": "brewery_count",
         "type": "\"long\""
        }
       ],
       "type": "table"
      }
     },
     "output_type": "display_data"
    }
   ],
   "source": [
    "display(df_gold)"
   ]
  },
  {
   "cell_type": "code",
   "execution_count": 0,
   "metadata": {
    "application/vnd.databricks.v1+cell": {
     "cellMetadata": {
      "byteLimit": 2048000,
      "rowLimit": 10000
     },
     "inputWidgets": {},
     "nuid": "a2d50cb5-71f5-4a85-b402-852ab2a96b70",
     "showTitle": false,
     "tableResultSettingsMap": {},
     "title": ""
    }
   },
   "outputs": [
    {
     "data": {
      "text/html": [
       "<style scoped>\n",
       "  .table-result-container {\n",
       "    max-height: 300px;\n",
       "    overflow: auto;\n",
       "  }\n",
       "  table, th, td {\n",
       "    border: 1px solid black;\n",
       "    border-collapse: collapse;\n",
       "  }\n",
       "  th, td {\n",
       "    padding: 5px;\n",
       "  }\n",
       "  th {\n",
       "    text-align: left;\n",
       "  }\n",
       "</style><div class='table-result-container'><table class='table-result'><thead style='background-color: white'><tr><th>brewery_type</th><th>sum(brewery_count)</th></tr></thead><tbody><tr><td>micro</td><td>56</td></tr><tr><td>brewpub</td><td>25</td></tr><tr><td>large</td><td>7</td></tr><tr><td>closed</td><td>4</td></tr><tr><td>contract</td><td>3</td></tr><tr><td>proprietor</td><td>2</td></tr><tr><td>planning</td><td>2</td></tr><tr><td>regional</td><td>1</td></tr></tbody></table></div>"
      ]
     },
     "metadata": {
      "application/vnd.databricks.v1+output": {
       "addedWidgets": {},
       "aggData": [],
       "aggError": "",
       "aggOverflow": false,
       "aggSchema": [],
       "aggSeriesLimitReached": false,
       "aggType": "",
       "arguments": {},
       "columnCustomDisplayInfos": {},
       "data": [
        [
         "micro",
         56
        ],
        [
         "brewpub",
         25
        ],
        [
         "large",
         7
        ],
        [
         "closed",
         4
        ],
        [
         "contract",
         3
        ],
        [
         "proprietor",
         2
        ],
        [
         "planning",
         2
        ],
        [
         "regional",
         1
        ]
       ],
       "datasetInfos": [],
       "dbfsResultPath": null,
       "isJsonSchema": true,
       "metadata": {},
       "overflow": false,
       "plotOptions": {
        "customPlotOptions": {},
        "displayType": "table",
        "pivotAggregation": null,
        "pivotColumns": null,
        "xColumns": null,
        "yColumns": null
       },
       "removedWidgets": [],
       "schema": [
        {
         "metadata": "{}",
         "name": "brewery_type",
         "type": "\"string\""
        },
        {
         "metadata": "{}",
         "name": "sum(brewery_count)",
         "type": "\"long\""
        }
       ],
       "type": "table"
      }
     },
     "output_type": "display_data"
    }
   ],
   "source": [
    "brewerysum = df_gold.groupBy(\"brewery_type\").sum(\"brewery_count\").orderBy(\"sum(brewery_count)\", ascending=False)\n",
    "display(brewerysum)"
   ]
  },
  {
   "cell_type": "code",
   "execution_count": 0,
   "metadata": {
    "application/vnd.databricks.v1+cell": {
     "cellMetadata": {},
     "inputWidgets": {},
     "nuid": "b24790b9-6c0f-4668-bb76-f5ee3f43759b",
     "showTitle": false,
     "tableResultSettingsMap": {},
     "title": ""
    }
   },
   "outputs": [],
   "source": [
    "import matplotlib.pyplot as plt\n",
    "\n",
    "# converte o df Spark para Pandas\n",
    "brewerysum_pd = brewerysum.toPandas()\n",
    "\n",
    "# cria o gráfico\n",
    "plt.figure(figsize=(12,6))\n",
    "plt.bar(brewerysum_pd['brewery_type'], brewerysum_pd['sum(brewery_count)'], color='skyblue')\n",
    "plt.xticks(rotation=45)\n",
    "plt.xlabel('Tipo de Cervejaria')\n",
    "plt.ylabel('Quantidade Total de Cervejarias')\n",
    "plt.title('Total de Cervejarias por Tipo')\n",
    "plt.tight_layout()\n",
    "plt.show()"
   ]
  },
  {
   "cell_type": "code",
   "execution_count": 0,
   "metadata": {
    "application/vnd.databricks.v1+cell": {
     "cellMetadata": {
      "byteLimit": 2048000,
      "rowLimit": 10000
     },
     "inputWidgets": {},
     "nuid": "deecc738-1d63-405c-be3b-c10e07669c5d",
     "showTitle": false,
     "tableResultSettingsMap": {},
     "title": ""
    }
   },
   "outputs": [
    {
     "data": {
      "image/png": "[encoded data removed]",
      "text/plain": [
       "<Figure size 1400x600 with 1 Axes>"
      ]
     },
     "metadata": {},
     "output_type": "display_data"
    }
   ],
   "source": [
    "# agrupa por estado e soma o total de cervejarias\n",
    "state_sum = df_gold.groupBy(\"state\").sum(\"brewery_count\").orderBy(\"sum(brewery_count)\", ascending=False)\n",
    "\n",
    "# converte para Pandas\n",
    "state_sum_pd = state_sum.toPandas()\n",
    "\n",
    "# cria o gráfico\n",
    "plt.figure(figsize=(14,6))\n",
    "plt.bar(state_sum_pd['state'], state_sum_pd['sum(brewery_count)'], color='steelblue')\n",
    "plt.xticks(rotation=45)\n",
    "plt.xlabel('Estado')\n",
    "plt.ylabel('Quantidade Total de Cervejarias')\n",
    "plt.title('Total de Cervejarias por Estado')\n",
    "plt.tight_layout()\n",
    "plt.show()"
   ]
  },
  {
   "cell_type": "code",
   "execution_count": 0,
   "metadata": {
    "application/vnd.databricks.v1+cell": {
     "cellMetadata": {
      "byteLimit": 2048000,
      "rowLimit": 10000
     },
     "inputWidgets": {},
     "nuid": "efa44ac5-ada6-4157-899c-867b37e59bb2",
     "showTitle": false,
     "tableResultSettingsMap": {},
     "title": ""
    }
   },
   "outputs": [],
   "source": [
    "import json\n",
    "import requests\n",
    "\n",
    "# Baixar o GeoJSON dos estados dos EUA\n",
    "url = 'https://raw.githubusercontent.com/PublicaMundi/MappingAPI/master/data/geojson/us-states.json'\n",
    "response = requests.get(url)\n",
    "us_states_geojson = response.json()"
   ]
  },
  {
   "cell_type": "code",
   "execution_count": 0,
   "metadata": {
    "application/vnd.databricks.v1+cell": {
     "cellMetadata": {
      "byteLimit": 2048000,
      "rowLimit": 10000
     },
     "inputWidgets": {},
     "nuid": "ac3d616a-642a-4646-b20c-855ad8b2ee0a",
     "showTitle": false,
     "tableResultSettingsMap": {},
     "title": ""
    }
   },
   "outputs": [],
   "source": [
    "state_sum = df_gold.groupBy(\"state\").sum(\"brewery_count\").withColumnRenamed(\"sum(brewery_count)\", \"brewery_count\")\n",
    "state_sum_pd = state_sum.toPandas()"
   ]
  },
  {
   "cell_type": "code",
   "execution_count": 0,
   "metadata": {
    "application/vnd.databricks.v1+cell": {
     "cellMetadata": {
      "byteLimit": 2048000,
      "rowLimit": 10000
     },
     "inputWidgets": {},
     "nuid": "df0d1107-6206-4f80-a796-1505087a75b9",
     "showTitle": false,
     "tableResultSettingsMap": {},
     "title": ""
    }
   },
   "outputs": [
    {
     "data": {
      "text/plain": [
       "\u001b[0;31m---------------------------------------------------------------------------\u001b[0m\n",
       "\u001b[0;31mNameError\u001b[0m                                 Traceback (most recent call last)\n",
       "File \u001b[0;32m<command-6266875200308400>, line 4\u001b[0m\n",
       "\u001b[1;32m      1\u001b[0m \u001b[38;5;28;01mimport\u001b[39;00m \u001b[38;5;21;01mplotly\u001b[39;00m\u001b[38;5;21;01m.\u001b[39;00m\u001b[38;5;21;01mexpress\u001b[39;00m \u001b[38;5;28;01mas\u001b[39;00m \u001b[38;5;21;01mpx\u001b[39;00m\n",
       "\u001b[1;32m      3\u001b[0m fig \u001b[38;5;241m=\u001b[39m px\u001b[38;5;241m.\u001b[39mchoropleth(\n",
       "\u001b[0;32m----> 4\u001b[0m     state_sum_pd,\n",
       "\u001b[1;32m      5\u001b[0m     geojson\u001b[38;5;241m=\u001b[39mus_states_geojson,\n",
       "\u001b[1;32m      6\u001b[0m     locations\u001b[38;5;241m=\u001b[39m\u001b[38;5;124m\"\u001b[39m\u001b[38;5;124mstate\u001b[39m\u001b[38;5;124m\"\u001b[39m,\n",
       "\u001b[1;32m      7\u001b[0m     featureidkey\u001b[38;5;241m=\u001b[39m\u001b[38;5;124m\"\u001b[39m\u001b[38;5;124mproperties.name\u001b[39m\u001b[38;5;124m\"\u001b[39m,\n",
       "\u001b[1;32m      8\u001b[0m     color\u001b[38;5;241m=\u001b[39m\u001b[38;5;124m\"\u001b[39m\u001b[38;5;124mbrewery_count\u001b[39m\u001b[38;5;124m\"\u001b[39m,\n",
       "\u001b[1;32m      9\u001b[0m     color_continuous_scale\u001b[38;5;241m=\u001b[39m\u001b[38;5;124m\"\u001b[39m\u001b[38;5;124mViridis\u001b[39m\u001b[38;5;124m\"\u001b[39m,\n",
       "\u001b[1;32m     10\u001b[0m     scope\u001b[38;5;241m=\u001b[39m\u001b[38;5;124m\"\u001b[39m\u001b[38;5;124musa\u001b[39m\u001b[38;5;124m\"\u001b[39m,\n",
       "\u001b[1;32m     11\u001b[0m     title\u001b[38;5;241m=\u001b[39m\u001b[38;5;124m\"\u001b[39m\u001b[38;5;124mQuantidade de Cervejarias por Estado\u001b[39m\u001b[38;5;124m\"\u001b[39m\n",
       "\u001b[1;32m     12\u001b[0m )\n",
       "\u001b[1;32m     14\u001b[0m fig\u001b[38;5;241m.\u001b[39mupdate_geos(fitbounds\u001b[38;5;241m=\u001b[39m\u001b[38;5;124m\"\u001b[39m\u001b[38;5;124mlocations\u001b[39m\u001b[38;5;124m\"\u001b[39m, visible\u001b[38;5;241m=\u001b[39m\u001b[38;5;28;01mFalse\u001b[39;00m)\n",
       "\u001b[1;32m     15\u001b[0m fig\u001b[38;5;241m.\u001b[39mshow()\n",
       "\n",
       "\u001b[0;31mNameError\u001b[0m: name 'state_sum_pd' is not defined"
      ]
     },
     "metadata": {
      "application/vnd.databricks.v1+output": {
       "addedWidgets": {},
       "arguments": {},
       "datasetInfos": [],
       "jupyterProps": {
        "ename": "NameError",
        "evalue": "name 'state_sum_pd' is not defined"
       },
       "metadata": {
        "errorSummary": "<span class='ansi-red-fg'>NameError</span>: name 'state_sum_pd' is not defined"
       },
       "removedWidgets": [],
       "sqlProps": null,
       "stackFrames": [
        "\u001b[0;31m---------------------------------------------------------------------------\u001b[0m",
        "\u001b[0;31mNameError\u001b[0m                                 Traceback (most recent call last)",
        "File \u001b[0;32m<command-6266875200308400>, line 4\u001b[0m\n\u001b[1;32m      1\u001b[0m \u001b[38;5;28;01mimport\u001b[39;00m \u001b[38;5;21;01mplotly\u001b[39;00m\u001b[38;5;21;01m.\u001b[39;00m\u001b[38;5;21;01mexpress\u001b[39;00m \u001b[38;5;28;01mas\u001b[39;00m \u001b[38;5;21;01mpx\u001b[39;00m\n\u001b[1;32m      3\u001b[0m fig \u001b[38;5;241m=\u001b[39m px\u001b[38;5;241m.\u001b[39mchoropleth(\n\u001b[0;32m----> 4\u001b[0m     state_sum_pd,\n\u001b[1;32m      5\u001b[0m     geojson\u001b[38;5;241m=\u001b[39mus_states_geojson,\n\u001b[1;32m      6\u001b[0m     locations\u001b[38;5;241m=\u001b[39m\u001b[38;5;124m\"\u001b[39m\u001b[38;5;124mstate\u001b[39m\u001b[38;5;124m\"\u001b[39m,\n\u001b[1;32m      7\u001b[0m     featureidkey\u001b[38;5;241m=\u001b[39m\u001b[38;5;124m\"\u001b[39m\u001b[38;5;124mproperties.name\u001b[39m\u001b[38;5;124m\"\u001b[39m,\n\u001b[1;32m      8\u001b[0m     color\u001b[38;5;241m=\u001b[39m\u001b[38;5;124m\"\u001b[39m\u001b[38;5;124mbrewery_count\u001b[39m\u001b[38;5;124m\"\u001b[39m,\n\u001b[1;32m      9\u001b[0m     color_continuous_scale\u001b[38;5;241m=\u001b[39m\u001b[38;5;124m\"\u001b[39m\u001b[38;5;124mViridis\u001b[39m\u001b[38;5;124m\"\u001b[39m,\n\u001b[1;32m     10\u001b[0m     scope\u001b[38;5;241m=\u001b[39m\u001b[38;5;124m\"\u001b[39m\u001b[38;5;124musa\u001b[39m\u001b[38;5;124m\"\u001b[39m,\n\u001b[1;32m     11\u001b[0m     title\u001b[38;5;241m=\u001b[39m\u001b[38;5;124m\"\u001b[39m\u001b[38;5;124mQuantidade de Cervejarias por Estado\u001b[39m\u001b[38;5;124m\"\u001b[39m\n\u001b[1;32m     12\u001b[0m )\n\u001b[1;32m     14\u001b[0m fig\u001b[38;5;241m.\u001b[39mupdate_geos(fitbounds\u001b[38;5;241m=\u001b[39m\u001b[38;5;124m\"\u001b[39m\u001b[38;5;124mlocations\u001b[39m\u001b[38;5;124m\"\u001b[39m, visible\u001b[38;5;241m=\u001b[39m\u001b[38;5;28;01mFalse\u001b[39;00m)\n\u001b[1;32m     15\u001b[0m fig\u001b[38;5;241m.\u001b[39mshow()\n",
        "\u001b[0;31mNameError\u001b[0m: name 'state_sum_pd' is not defined"
       ],
       "type": "baseError"
      }
     },
     "output_type": "display_data"
    }
   ],
   "source": [
    "import plotly.express as px\n",
    "\n",
    "fig = px.choropleth(\n",
    "    state_sum_pd,\n",
    "    geojson=us_states_geojson,\n",
    "    locations=\"state\",\n",
    "    featureidkey=\"properties.name\",\n",
    "    color=\"brewery_count\",\n",
    "    color_continuous_scale=\"Viridis\",\n",
    "    scope=\"usa\",\n",
    "    title=\"Quantidade de Cervejarias por Estado\"\n",
    ")\n",
    "\n",
    "fig.update_geos(fitbounds=\"locations\", visible=False)\n",
    "fig.show()"
   ]
  }
 ],
 "metadata": {
  "application/vnd.databricks.v1+notebook": {
   "computePreferences": null,
   "dashboards": [],
   "environmentMetadata": {
    "base_environment": "",
    "environment_version": "2"
   },
   "inputWidgetPreferences": null,
   "language": "python",
   "notebookMetadata": {
    "pythonIndentUnit": 4
   },
   "notebookName": "medallion ambev",
   "widgets": {}
  },
  "language_info": {
   "name": "python"
  }
 },
 "nbformat": 4,
 "nbformat_minor": 0
}
